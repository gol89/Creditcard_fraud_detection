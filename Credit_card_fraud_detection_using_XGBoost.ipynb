{
 "cells": [
  {
   "cell_type": "code",
   "execution_count": 1,
   "metadata": {},
   "outputs": [],
   "source": [
    "import pandas as pd\n",
    "from sklearn.model_selection import train_test_split, StratifiedKFold, RandomizedSearchCV, GridSearchCV\n",
    "from xgboost import XGBClassifier\n",
    "from imblearn.over_sampling import SMOTE\n",
    "from sklearn.metrics import classification_report, confusion_matrix\n",
    "from datetime import datetime"
   ]
  },
  {
   "cell_type": "code",
   "execution_count": 2,
   "metadata": {},
   "outputs": [],
   "source": [
    "df = pd.read_csv('creditcard.csv')"
   ]
  },
  {
   "cell_type": "code",
   "execution_count": 3,
   "metadata": {},
   "outputs": [
    {
     "data": {
      "text/html": [
       "<div>\n",
       "<style scoped>\n",
       "    .dataframe tbody tr th:only-of-type {\n",
       "        vertical-align: middle;\n",
       "    }\n",
       "\n",
       "    .dataframe tbody tr th {\n",
       "        vertical-align: top;\n",
       "    }\n",
       "\n",
       "    .dataframe thead th {\n",
       "        text-align: right;\n",
       "    }\n",
       "</style>\n",
       "<table border=\"1\" class=\"dataframe\">\n",
       "  <thead>\n",
       "    <tr style=\"text-align: right;\">\n",
       "      <th></th>\n",
       "      <th>Time</th>\n",
       "      <th>V1</th>\n",
       "      <th>V2</th>\n",
       "      <th>V3</th>\n",
       "      <th>V4</th>\n",
       "      <th>V5</th>\n",
       "      <th>V6</th>\n",
       "      <th>V7</th>\n",
       "      <th>V8</th>\n",
       "      <th>V9</th>\n",
       "      <th>...</th>\n",
       "      <th>V21</th>\n",
       "      <th>V22</th>\n",
       "      <th>V23</th>\n",
       "      <th>V24</th>\n",
       "      <th>V25</th>\n",
       "      <th>V26</th>\n",
       "      <th>V27</th>\n",
       "      <th>V28</th>\n",
       "      <th>Amount</th>\n",
       "      <th>Class</th>\n",
       "    </tr>\n",
       "  </thead>\n",
       "  <tbody>\n",
       "    <tr>\n",
       "      <th>0</th>\n",
       "      <td>0.0</td>\n",
       "      <td>-1.359807</td>\n",
       "      <td>-0.072781</td>\n",
       "      <td>2.536347</td>\n",
       "      <td>1.378155</td>\n",
       "      <td>-0.338321</td>\n",
       "      <td>0.462388</td>\n",
       "      <td>0.239599</td>\n",
       "      <td>0.098698</td>\n",
       "      <td>0.363787</td>\n",
       "      <td>...</td>\n",
       "      <td>-0.018307</td>\n",
       "      <td>0.277838</td>\n",
       "      <td>-0.110474</td>\n",
       "      <td>0.066928</td>\n",
       "      <td>0.128539</td>\n",
       "      <td>-0.189115</td>\n",
       "      <td>0.133558</td>\n",
       "      <td>-0.021053</td>\n",
       "      <td>149.62</td>\n",
       "      <td>0</td>\n",
       "    </tr>\n",
       "    <tr>\n",
       "      <th>1</th>\n",
       "      <td>0.0</td>\n",
       "      <td>1.191857</td>\n",
       "      <td>0.266151</td>\n",
       "      <td>0.166480</td>\n",
       "      <td>0.448154</td>\n",
       "      <td>0.060018</td>\n",
       "      <td>-0.082361</td>\n",
       "      <td>-0.078803</td>\n",
       "      <td>0.085102</td>\n",
       "      <td>-0.255425</td>\n",
       "      <td>...</td>\n",
       "      <td>-0.225775</td>\n",
       "      <td>-0.638672</td>\n",
       "      <td>0.101288</td>\n",
       "      <td>-0.339846</td>\n",
       "      <td>0.167170</td>\n",
       "      <td>0.125895</td>\n",
       "      <td>-0.008983</td>\n",
       "      <td>0.014724</td>\n",
       "      <td>2.69</td>\n",
       "      <td>0</td>\n",
       "    </tr>\n",
       "    <tr>\n",
       "      <th>2</th>\n",
       "      <td>1.0</td>\n",
       "      <td>-1.358354</td>\n",
       "      <td>-1.340163</td>\n",
       "      <td>1.773209</td>\n",
       "      <td>0.379780</td>\n",
       "      <td>-0.503198</td>\n",
       "      <td>1.800499</td>\n",
       "      <td>0.791461</td>\n",
       "      <td>0.247676</td>\n",
       "      <td>-1.514654</td>\n",
       "      <td>...</td>\n",
       "      <td>0.247998</td>\n",
       "      <td>0.771679</td>\n",
       "      <td>0.909412</td>\n",
       "      <td>-0.689281</td>\n",
       "      <td>-0.327642</td>\n",
       "      <td>-0.139097</td>\n",
       "      <td>-0.055353</td>\n",
       "      <td>-0.059752</td>\n",
       "      <td>378.66</td>\n",
       "      <td>0</td>\n",
       "    </tr>\n",
       "    <tr>\n",
       "      <th>3</th>\n",
       "      <td>1.0</td>\n",
       "      <td>-0.966272</td>\n",
       "      <td>-0.185226</td>\n",
       "      <td>1.792993</td>\n",
       "      <td>-0.863291</td>\n",
       "      <td>-0.010309</td>\n",
       "      <td>1.247203</td>\n",
       "      <td>0.237609</td>\n",
       "      <td>0.377436</td>\n",
       "      <td>-1.387024</td>\n",
       "      <td>...</td>\n",
       "      <td>-0.108300</td>\n",
       "      <td>0.005274</td>\n",
       "      <td>-0.190321</td>\n",
       "      <td>-1.175575</td>\n",
       "      <td>0.647376</td>\n",
       "      <td>-0.221929</td>\n",
       "      <td>0.062723</td>\n",
       "      <td>0.061458</td>\n",
       "      <td>123.50</td>\n",
       "      <td>0</td>\n",
       "    </tr>\n",
       "    <tr>\n",
       "      <th>4</th>\n",
       "      <td>2.0</td>\n",
       "      <td>-1.158233</td>\n",
       "      <td>0.877737</td>\n",
       "      <td>1.548718</td>\n",
       "      <td>0.403034</td>\n",
       "      <td>-0.407193</td>\n",
       "      <td>0.095921</td>\n",
       "      <td>0.592941</td>\n",
       "      <td>-0.270533</td>\n",
       "      <td>0.817739</td>\n",
       "      <td>...</td>\n",
       "      <td>-0.009431</td>\n",
       "      <td>0.798278</td>\n",
       "      <td>-0.137458</td>\n",
       "      <td>0.141267</td>\n",
       "      <td>-0.206010</td>\n",
       "      <td>0.502292</td>\n",
       "      <td>0.219422</td>\n",
       "      <td>0.215153</td>\n",
       "      <td>69.99</td>\n",
       "      <td>0</td>\n",
       "    </tr>\n",
       "  </tbody>\n",
       "</table>\n",
       "<p>5 rows × 31 columns</p>\n",
       "</div>"
      ],
      "text/plain": [
       "   Time        V1        V2        V3        V4        V5        V6        V7  \\\n",
       "0   0.0 -1.359807 -0.072781  2.536347  1.378155 -0.338321  0.462388  0.239599   \n",
       "1   0.0  1.191857  0.266151  0.166480  0.448154  0.060018 -0.082361 -0.078803   \n",
       "2   1.0 -1.358354 -1.340163  1.773209  0.379780 -0.503198  1.800499  0.791461   \n",
       "3   1.0 -0.966272 -0.185226  1.792993 -0.863291 -0.010309  1.247203  0.237609   \n",
       "4   2.0 -1.158233  0.877737  1.548718  0.403034 -0.407193  0.095921  0.592941   \n",
       "\n",
       "         V8        V9  ...       V21       V22       V23       V24       V25  \\\n",
       "0  0.098698  0.363787  ... -0.018307  0.277838 -0.110474  0.066928  0.128539   \n",
       "1  0.085102 -0.255425  ... -0.225775 -0.638672  0.101288 -0.339846  0.167170   \n",
       "2  0.247676 -1.514654  ...  0.247998  0.771679  0.909412 -0.689281 -0.327642   \n",
       "3  0.377436 -1.387024  ... -0.108300  0.005274 -0.190321 -1.175575  0.647376   \n",
       "4 -0.270533  0.817739  ... -0.009431  0.798278 -0.137458  0.141267 -0.206010   \n",
       "\n",
       "        V26       V27       V28  Amount  Class  \n",
       "0 -0.189115  0.133558 -0.021053  149.62      0  \n",
       "1  0.125895 -0.008983  0.014724    2.69      0  \n",
       "2 -0.139097 -0.055353 -0.059752  378.66      0  \n",
       "3 -0.221929  0.062723  0.061458  123.50      0  \n",
       "4  0.502292  0.219422  0.215153   69.99      0  \n",
       "\n",
       "[5 rows x 31 columns]"
      ]
     },
     "execution_count": 3,
     "metadata": {},
     "output_type": "execute_result"
    }
   ],
   "source": [
    "df.head()"
   ]
  },
  {
   "cell_type": "code",
   "execution_count": 4,
   "metadata": {},
   "outputs": [
    {
     "data": {
      "text/html": [
       "<div>\n",
       "<style scoped>\n",
       "    .dataframe tbody tr th:only-of-type {\n",
       "        vertical-align: middle;\n",
       "    }\n",
       "\n",
       "    .dataframe tbody tr th {\n",
       "        vertical-align: top;\n",
       "    }\n",
       "\n",
       "    .dataframe thead th {\n",
       "        text-align: right;\n",
       "    }\n",
       "</style>\n",
       "<table border=\"1\" class=\"dataframe\">\n",
       "  <thead>\n",
       "    <tr style=\"text-align: right;\">\n",
       "      <th></th>\n",
       "      <th>count</th>\n",
       "      <th>mean</th>\n",
       "      <th>std</th>\n",
       "      <th>min</th>\n",
       "      <th>25%</th>\n",
       "      <th>50%</th>\n",
       "      <th>75%</th>\n",
       "      <th>max</th>\n",
       "    </tr>\n",
       "  </thead>\n",
       "  <tbody>\n",
       "    <tr>\n",
       "      <th>Time</th>\n",
       "      <td>284807.0</td>\n",
       "      <td>9.481386e+04</td>\n",
       "      <td>47488.145955</td>\n",
       "      <td>0.000000</td>\n",
       "      <td>54201.500000</td>\n",
       "      <td>84692.000000</td>\n",
       "      <td>139320.500000</td>\n",
       "      <td>172792.000000</td>\n",
       "    </tr>\n",
       "    <tr>\n",
       "      <th>V1</th>\n",
       "      <td>284807.0</td>\n",
       "      <td>1.165980e-15</td>\n",
       "      <td>1.958696</td>\n",
       "      <td>-56.407510</td>\n",
       "      <td>-0.920373</td>\n",
       "      <td>0.018109</td>\n",
       "      <td>1.315642</td>\n",
       "      <td>2.454930</td>\n",
       "    </tr>\n",
       "    <tr>\n",
       "      <th>V2</th>\n",
       "      <td>284807.0</td>\n",
       "      <td>3.416908e-16</td>\n",
       "      <td>1.651309</td>\n",
       "      <td>-72.715728</td>\n",
       "      <td>-0.598550</td>\n",
       "      <td>0.065486</td>\n",
       "      <td>0.803724</td>\n",
       "      <td>22.057729</td>\n",
       "    </tr>\n",
       "    <tr>\n",
       "      <th>V3</th>\n",
       "      <td>284807.0</td>\n",
       "      <td>-1.373150e-15</td>\n",
       "      <td>1.516255</td>\n",
       "      <td>-48.325589</td>\n",
       "      <td>-0.890365</td>\n",
       "      <td>0.179846</td>\n",
       "      <td>1.027196</td>\n",
       "      <td>9.382558</td>\n",
       "    </tr>\n",
       "    <tr>\n",
       "      <th>V4</th>\n",
       "      <td>284807.0</td>\n",
       "      <td>2.086869e-15</td>\n",
       "      <td>1.415869</td>\n",
       "      <td>-5.683171</td>\n",
       "      <td>-0.848640</td>\n",
       "      <td>-0.019847</td>\n",
       "      <td>0.743341</td>\n",
       "      <td>16.875344</td>\n",
       "    </tr>\n",
       "    <tr>\n",
       "      <th>V5</th>\n",
       "      <td>284807.0</td>\n",
       "      <td>9.604066e-16</td>\n",
       "      <td>1.380247</td>\n",
       "      <td>-113.743307</td>\n",
       "      <td>-0.691597</td>\n",
       "      <td>-0.054336</td>\n",
       "      <td>0.611926</td>\n",
       "      <td>34.801666</td>\n",
       "    </tr>\n",
       "    <tr>\n",
       "      <th>V6</th>\n",
       "      <td>284807.0</td>\n",
       "      <td>1.490107e-15</td>\n",
       "      <td>1.332271</td>\n",
       "      <td>-26.160506</td>\n",
       "      <td>-0.768296</td>\n",
       "      <td>-0.274187</td>\n",
       "      <td>0.398565</td>\n",
       "      <td>73.301626</td>\n",
       "    </tr>\n",
       "    <tr>\n",
       "      <th>V7</th>\n",
       "      <td>284807.0</td>\n",
       "      <td>-5.556467e-16</td>\n",
       "      <td>1.237094</td>\n",
       "      <td>-43.557242</td>\n",
       "      <td>-0.554076</td>\n",
       "      <td>0.040103</td>\n",
       "      <td>0.570436</td>\n",
       "      <td>120.589494</td>\n",
       "    </tr>\n",
       "    <tr>\n",
       "      <th>V8</th>\n",
       "      <td>284807.0</td>\n",
       "      <td>1.177556e-16</td>\n",
       "      <td>1.194353</td>\n",
       "      <td>-73.216718</td>\n",
       "      <td>-0.208630</td>\n",
       "      <td>0.022358</td>\n",
       "      <td>0.327346</td>\n",
       "      <td>20.007208</td>\n",
       "    </tr>\n",
       "    <tr>\n",
       "      <th>V9</th>\n",
       "      <td>284807.0</td>\n",
       "      <td>-2.406455e-15</td>\n",
       "      <td>1.098632</td>\n",
       "      <td>-13.434066</td>\n",
       "      <td>-0.643098</td>\n",
       "      <td>-0.051429</td>\n",
       "      <td>0.597139</td>\n",
       "      <td>15.594995</td>\n",
       "    </tr>\n",
       "    <tr>\n",
       "      <th>V10</th>\n",
       "      <td>284807.0</td>\n",
       "      <td>2.239751e-15</td>\n",
       "      <td>1.088850</td>\n",
       "      <td>-24.588262</td>\n",
       "      <td>-0.535426</td>\n",
       "      <td>-0.092917</td>\n",
       "      <td>0.453923</td>\n",
       "      <td>23.745136</td>\n",
       "    </tr>\n",
       "    <tr>\n",
       "      <th>V11</th>\n",
       "      <td>284807.0</td>\n",
       "      <td>1.673327e-15</td>\n",
       "      <td>1.020713</td>\n",
       "      <td>-4.797473</td>\n",
       "      <td>-0.762494</td>\n",
       "      <td>-0.032757</td>\n",
       "      <td>0.739593</td>\n",
       "      <td>12.018913</td>\n",
       "    </tr>\n",
       "    <tr>\n",
       "      <th>V12</th>\n",
       "      <td>284807.0</td>\n",
       "      <td>-1.254995e-15</td>\n",
       "      <td>0.999201</td>\n",
       "      <td>-18.683715</td>\n",
       "      <td>-0.405571</td>\n",
       "      <td>0.140033</td>\n",
       "      <td>0.618238</td>\n",
       "      <td>7.848392</td>\n",
       "    </tr>\n",
       "    <tr>\n",
       "      <th>V13</th>\n",
       "      <td>284807.0</td>\n",
       "      <td>8.176030e-16</td>\n",
       "      <td>0.995274</td>\n",
       "      <td>-5.791881</td>\n",
       "      <td>-0.648539</td>\n",
       "      <td>-0.013568</td>\n",
       "      <td>0.662505</td>\n",
       "      <td>7.126883</td>\n",
       "    </tr>\n",
       "    <tr>\n",
       "      <th>V14</th>\n",
       "      <td>284807.0</td>\n",
       "      <td>1.206296e-15</td>\n",
       "      <td>0.958596</td>\n",
       "      <td>-19.214325</td>\n",
       "      <td>-0.425574</td>\n",
       "      <td>0.050601</td>\n",
       "      <td>0.493150</td>\n",
       "      <td>10.526766</td>\n",
       "    </tr>\n",
       "    <tr>\n",
       "      <th>V15</th>\n",
       "      <td>284807.0</td>\n",
       "      <td>4.913003e-15</td>\n",
       "      <td>0.915316</td>\n",
       "      <td>-4.498945</td>\n",
       "      <td>-0.582884</td>\n",
       "      <td>0.048072</td>\n",
       "      <td>0.648821</td>\n",
       "      <td>8.877742</td>\n",
       "    </tr>\n",
       "    <tr>\n",
       "      <th>V16</th>\n",
       "      <td>284807.0</td>\n",
       "      <td>1.437666e-15</td>\n",
       "      <td>0.876253</td>\n",
       "      <td>-14.129855</td>\n",
       "      <td>-0.468037</td>\n",
       "      <td>0.066413</td>\n",
       "      <td>0.523296</td>\n",
       "      <td>17.315112</td>\n",
       "    </tr>\n",
       "    <tr>\n",
       "      <th>V17</th>\n",
       "      <td>284807.0</td>\n",
       "      <td>-3.800113e-16</td>\n",
       "      <td>0.849337</td>\n",
       "      <td>-25.162799</td>\n",
       "      <td>-0.483748</td>\n",
       "      <td>-0.065676</td>\n",
       "      <td>0.399675</td>\n",
       "      <td>9.253526</td>\n",
       "    </tr>\n",
       "    <tr>\n",
       "      <th>V18</th>\n",
       "      <td>284807.0</td>\n",
       "      <td>9.572133e-16</td>\n",
       "      <td>0.838176</td>\n",
       "      <td>-9.498746</td>\n",
       "      <td>-0.498850</td>\n",
       "      <td>-0.003636</td>\n",
       "      <td>0.500807</td>\n",
       "      <td>5.041069</td>\n",
       "    </tr>\n",
       "    <tr>\n",
       "      <th>V19</th>\n",
       "      <td>284807.0</td>\n",
       "      <td>1.039817e-15</td>\n",
       "      <td>0.814041</td>\n",
       "      <td>-7.213527</td>\n",
       "      <td>-0.456299</td>\n",
       "      <td>0.003735</td>\n",
       "      <td>0.458949</td>\n",
       "      <td>5.591971</td>\n",
       "    </tr>\n",
       "    <tr>\n",
       "      <th>V20</th>\n",
       "      <td>284807.0</td>\n",
       "      <td>6.406703e-16</td>\n",
       "      <td>0.770925</td>\n",
       "      <td>-54.497720</td>\n",
       "      <td>-0.211721</td>\n",
       "      <td>-0.062481</td>\n",
       "      <td>0.133041</td>\n",
       "      <td>39.420904</td>\n",
       "    </tr>\n",
       "    <tr>\n",
       "      <th>V21</th>\n",
       "      <td>284807.0</td>\n",
       "      <td>1.656562e-16</td>\n",
       "      <td>0.734524</td>\n",
       "      <td>-34.830382</td>\n",
       "      <td>-0.228395</td>\n",
       "      <td>-0.029450</td>\n",
       "      <td>0.186377</td>\n",
       "      <td>27.202839</td>\n",
       "    </tr>\n",
       "    <tr>\n",
       "      <th>V22</th>\n",
       "      <td>284807.0</td>\n",
       "      <td>-3.444850e-16</td>\n",
       "      <td>0.725702</td>\n",
       "      <td>-10.933144</td>\n",
       "      <td>-0.542350</td>\n",
       "      <td>0.006782</td>\n",
       "      <td>0.528554</td>\n",
       "      <td>10.503090</td>\n",
       "    </tr>\n",
       "    <tr>\n",
       "      <th>V23</th>\n",
       "      <td>284807.0</td>\n",
       "      <td>2.578648e-16</td>\n",
       "      <td>0.624460</td>\n",
       "      <td>-44.807735</td>\n",
       "      <td>-0.161846</td>\n",
       "      <td>-0.011193</td>\n",
       "      <td>0.147642</td>\n",
       "      <td>22.528412</td>\n",
       "    </tr>\n",
       "    <tr>\n",
       "      <th>V24</th>\n",
       "      <td>284807.0</td>\n",
       "      <td>4.471968e-15</td>\n",
       "      <td>0.605647</td>\n",
       "      <td>-2.836627</td>\n",
       "      <td>-0.354586</td>\n",
       "      <td>0.040976</td>\n",
       "      <td>0.439527</td>\n",
       "      <td>4.584549</td>\n",
       "    </tr>\n",
       "    <tr>\n",
       "      <th>V25</th>\n",
       "      <td>284807.0</td>\n",
       "      <td>5.340915e-16</td>\n",
       "      <td>0.521278</td>\n",
       "      <td>-10.295397</td>\n",
       "      <td>-0.317145</td>\n",
       "      <td>0.016594</td>\n",
       "      <td>0.350716</td>\n",
       "      <td>7.519589</td>\n",
       "    </tr>\n",
       "    <tr>\n",
       "      <th>V26</th>\n",
       "      <td>284807.0</td>\n",
       "      <td>1.687098e-15</td>\n",
       "      <td>0.482227</td>\n",
       "      <td>-2.604551</td>\n",
       "      <td>-0.326984</td>\n",
       "      <td>-0.052139</td>\n",
       "      <td>0.240952</td>\n",
       "      <td>3.517346</td>\n",
       "    </tr>\n",
       "    <tr>\n",
       "      <th>V27</th>\n",
       "      <td>284807.0</td>\n",
       "      <td>-3.666453e-16</td>\n",
       "      <td>0.403632</td>\n",
       "      <td>-22.565679</td>\n",
       "      <td>-0.070840</td>\n",
       "      <td>0.001342</td>\n",
       "      <td>0.091045</td>\n",
       "      <td>31.612198</td>\n",
       "    </tr>\n",
       "    <tr>\n",
       "      <th>V28</th>\n",
       "      <td>284807.0</td>\n",
       "      <td>-1.220404e-16</td>\n",
       "      <td>0.330083</td>\n",
       "      <td>-15.430084</td>\n",
       "      <td>-0.052960</td>\n",
       "      <td>0.011244</td>\n",
       "      <td>0.078280</td>\n",
       "      <td>33.847808</td>\n",
       "    </tr>\n",
       "    <tr>\n",
       "      <th>Amount</th>\n",
       "      <td>284807.0</td>\n",
       "      <td>8.834962e+01</td>\n",
       "      <td>250.120109</td>\n",
       "      <td>0.000000</td>\n",
       "      <td>5.600000</td>\n",
       "      <td>22.000000</td>\n",
       "      <td>77.165000</td>\n",
       "      <td>25691.160000</td>\n",
       "    </tr>\n",
       "    <tr>\n",
       "      <th>Class</th>\n",
       "      <td>284807.0</td>\n",
       "      <td>1.727486e-03</td>\n",
       "      <td>0.041527</td>\n",
       "      <td>0.000000</td>\n",
       "      <td>0.000000</td>\n",
       "      <td>0.000000</td>\n",
       "      <td>0.000000</td>\n",
       "      <td>1.000000</td>\n",
       "    </tr>\n",
       "  </tbody>\n",
       "</table>\n",
       "</div>"
      ],
      "text/plain": [
       "           count          mean           std         min           25%  \\\n",
       "Time    284807.0  9.481386e+04  47488.145955    0.000000  54201.500000   \n",
       "V1      284807.0  1.165980e-15      1.958696  -56.407510     -0.920373   \n",
       "V2      284807.0  3.416908e-16      1.651309  -72.715728     -0.598550   \n",
       "V3      284807.0 -1.373150e-15      1.516255  -48.325589     -0.890365   \n",
       "V4      284807.0  2.086869e-15      1.415869   -5.683171     -0.848640   \n",
       "V5      284807.0  9.604066e-16      1.380247 -113.743307     -0.691597   \n",
       "V6      284807.0  1.490107e-15      1.332271  -26.160506     -0.768296   \n",
       "V7      284807.0 -5.556467e-16      1.237094  -43.557242     -0.554076   \n",
       "V8      284807.0  1.177556e-16      1.194353  -73.216718     -0.208630   \n",
       "V9      284807.0 -2.406455e-15      1.098632  -13.434066     -0.643098   \n",
       "V10     284807.0  2.239751e-15      1.088850  -24.588262     -0.535426   \n",
       "V11     284807.0  1.673327e-15      1.020713   -4.797473     -0.762494   \n",
       "V12     284807.0 -1.254995e-15      0.999201  -18.683715     -0.405571   \n",
       "V13     284807.0  8.176030e-16      0.995274   -5.791881     -0.648539   \n",
       "V14     284807.0  1.206296e-15      0.958596  -19.214325     -0.425574   \n",
       "V15     284807.0  4.913003e-15      0.915316   -4.498945     -0.582884   \n",
       "V16     284807.0  1.437666e-15      0.876253  -14.129855     -0.468037   \n",
       "V17     284807.0 -3.800113e-16      0.849337  -25.162799     -0.483748   \n",
       "V18     284807.0  9.572133e-16      0.838176   -9.498746     -0.498850   \n",
       "V19     284807.0  1.039817e-15      0.814041   -7.213527     -0.456299   \n",
       "V20     284807.0  6.406703e-16      0.770925  -54.497720     -0.211721   \n",
       "V21     284807.0  1.656562e-16      0.734524  -34.830382     -0.228395   \n",
       "V22     284807.0 -3.444850e-16      0.725702  -10.933144     -0.542350   \n",
       "V23     284807.0  2.578648e-16      0.624460  -44.807735     -0.161846   \n",
       "V24     284807.0  4.471968e-15      0.605647   -2.836627     -0.354586   \n",
       "V25     284807.0  5.340915e-16      0.521278  -10.295397     -0.317145   \n",
       "V26     284807.0  1.687098e-15      0.482227   -2.604551     -0.326984   \n",
       "V27     284807.0 -3.666453e-16      0.403632  -22.565679     -0.070840   \n",
       "V28     284807.0 -1.220404e-16      0.330083  -15.430084     -0.052960   \n",
       "Amount  284807.0  8.834962e+01    250.120109    0.000000      5.600000   \n",
       "Class   284807.0  1.727486e-03      0.041527    0.000000      0.000000   \n",
       "\n",
       "                 50%            75%            max  \n",
       "Time    84692.000000  139320.500000  172792.000000  \n",
       "V1          0.018109       1.315642       2.454930  \n",
       "V2          0.065486       0.803724      22.057729  \n",
       "V3          0.179846       1.027196       9.382558  \n",
       "V4         -0.019847       0.743341      16.875344  \n",
       "V5         -0.054336       0.611926      34.801666  \n",
       "V6         -0.274187       0.398565      73.301626  \n",
       "V7          0.040103       0.570436     120.589494  \n",
       "V8          0.022358       0.327346      20.007208  \n",
       "V9         -0.051429       0.597139      15.594995  \n",
       "V10        -0.092917       0.453923      23.745136  \n",
       "V11        -0.032757       0.739593      12.018913  \n",
       "V12         0.140033       0.618238       7.848392  \n",
       "V13        -0.013568       0.662505       7.126883  \n",
       "V14         0.050601       0.493150      10.526766  \n",
       "V15         0.048072       0.648821       8.877742  \n",
       "V16         0.066413       0.523296      17.315112  \n",
       "V17        -0.065676       0.399675       9.253526  \n",
       "V18        -0.003636       0.500807       5.041069  \n",
       "V19         0.003735       0.458949       5.591971  \n",
       "V20        -0.062481       0.133041      39.420904  \n",
       "V21        -0.029450       0.186377      27.202839  \n",
       "V22         0.006782       0.528554      10.503090  \n",
       "V23        -0.011193       0.147642      22.528412  \n",
       "V24         0.040976       0.439527       4.584549  \n",
       "V25         0.016594       0.350716       7.519589  \n",
       "V26        -0.052139       0.240952       3.517346  \n",
       "V27         0.001342       0.091045      31.612198  \n",
       "V28         0.011244       0.078280      33.847808  \n",
       "Amount     22.000000      77.165000   25691.160000  \n",
       "Class       0.000000       0.000000       1.000000  "
      ]
     },
     "execution_count": 4,
     "metadata": {},
     "output_type": "execute_result"
    }
   ],
   "source": [
    "df.describe().transpose()"
   ]
  },
  {
   "cell_type": "code",
   "execution_count": 3,
   "metadata": {},
   "outputs": [
    {
     "name": "stdout",
     "output_type": "stream",
     "text": [
      "Genuine Transactions 99.83 % of the Dataset\n",
      "Fraud Transactions 0.17 % of the Dataset\n"
     ]
    }
   ],
   "source": [
    "#The Target class is heavily skewed\n",
    "print('Genuine Transactions',round(df['Class'].value_counts()[0]/len(df)*100,2), '% of the Dataset')\n",
    "print('Fraud Transactions',round(df['Class'].value_counts()[1]/len(df)*100,2), '% of the Dataset')"
   ]
  },
  {
   "cell_type": "code",
   "execution_count": 4,
   "metadata": {},
   "outputs": [],
   "source": [
    "#Spliiting the Dataset into Train and test before analysing it further\n",
    "X = df.drop('Class',axis=1)\n",
    "y = df['Class']\n",
    "X_train, X_test, y_train, y_test = train_test_split(X,y,test_size=0.2,random_state=42,stratify=y)"
   ]
  },
  {
   "cell_type": "code",
   "execution_count": 5,
   "metadata": {},
   "outputs": [
    {
     "data": {
      "text/plain": [
       "((227845, 30), (56962, 30), (227845,), (56962,))"
      ]
     },
     "execution_count": 5,
     "metadata": {},
     "output_type": "execute_result"
    }
   ],
   "source": [
    "X_train.shape, X_test.shape, y_train.shape, y_test.shape"
   ]
  },
  {
   "cell_type": "code",
   "execution_count": 6,
   "metadata": {},
   "outputs": [
    {
     "name": "stdout",
     "output_type": "stream",
     "text": [
      "Genuine Transactions in train set 99.83 % of the Dataset\n",
      "Genuine Transactions in test set 99.83 % of the Dataset\n",
      "Fraud Transactions in train set 0.17 % of the Dataset\n",
      "Fraud Transactions in test set 0.17 % of the Dataset\n"
     ]
    }
   ],
   "source": [
    "#Poportion of Genuine and fraud transactions in training and test set\n",
    "print('Genuine Transactions in train set',round((len(y_train) - sum(y_train))/len(y_train)*100,2), '% of the Dataset')\n",
    "print('Genuine Transactions in test set',round((len(y_test) - sum(y_test))/len(y_test)*100,2), '% of the Dataset')\n",
    "\n",
    "print('Fraud Transactions in train set',round(sum(y_train)/len(y_train)*100,2), '% of the Dataset')\n",
    "print('Fraud Transactions in test set',round(sum(y_test)/len(y_test)*100,2), '% of the Dataset')"
   ]
  },
  {
   "cell_type": "code",
   "execution_count": null,
   "metadata": {},
   "outputs": [],
   "source": []
  },
  {
   "cell_type": "code",
   "execution_count": 7,
   "metadata": {},
   "outputs": [],
   "source": [
    "X_train_set, X_val, y_train_set, y_val = train_test_split(X_train,y_train,test_size=0.2,random_state=45)"
   ]
  },
  {
   "cell_type": "code",
   "execution_count": 8,
   "metadata": {},
   "outputs": [
    {
     "name": "stdout",
     "output_type": "stream",
     "text": [
      "Fradulent Transactions in train set 0.17 % of the Dataset\n",
      "Fradulent Transactions in test set 0.17 % of the Dataset\n"
     ]
    }
   ],
   "source": [
    "print('Fradulent Transactions in train set',round( sum(y_train_set)/len(y_train_set)*100,2), '% of the Dataset')\n",
    "print('Fradulent Transactions in test set',round(sum(y_val)/len(y_val)*100,2), '% of the Dataset')"
   ]
  },
  {
   "cell_type": "code",
   "execution_count": 9,
   "metadata": {},
   "outputs": [
    {
     "data": {
      "text/plain": [
       "((363920, 30), (182276, 30))"
      ]
     },
     "execution_count": 9,
     "metadata": {},
     "output_type": "execute_result"
    }
   ],
   "source": [
    "sm = SMOTE(sampling_strategy='minority',random_state=42)\n",
    "X_trainsm, y_trainsm = sm.fit_sample(X_train_set,y_train_set)\n",
    "X_trainsm.shape, X_train_set.shape"
   ]
  },
  {
   "cell_type": "code",
   "execution_count": 30,
   "metadata": {},
   "outputs": [],
   "source": [
    "xgb = XGBClassifier(n_estimators=100,max_depth=5,verbosity=1,n_jobs=-1,random_state=42)"
   ]
  },
  {
   "cell_type": "code",
   "execution_count": 32,
   "metadata": {},
   "outputs": [
    {
     "name": "stdout",
     "output_type": "stream",
     "text": [
      "[0]\tvalidation_0-error:0.02337\n",
      "Will train until validation_0-error hasn't improved in 10 rounds.\n",
      "[1]\tvalidation_0-error:0.01685\n",
      "[2]\tvalidation_0-error:0.01479\n",
      "[3]\tvalidation_0-error:0.01315\n",
      "[4]\tvalidation_0-error:0.01251\n",
      "[5]\tvalidation_0-error:0.01115\n",
      "[6]\tvalidation_0-error:0.01047\n",
      "[7]\tvalidation_0-error:0.00996\n",
      "[8]\tvalidation_0-error:0.00928\n",
      "[9]\tvalidation_0-error:0.00856\n",
      "[10]\tvalidation_0-error:0.00757\n",
      "[11]\tvalidation_0-error:0.00777\n",
      "[12]\tvalidation_0-error:0.00733\n",
      "[13]\tvalidation_0-error:0.00700\n",
      "[14]\tvalidation_0-error:0.00656\n",
      "[15]\tvalidation_0-error:0.00597\n",
      "[16]\tvalidation_0-error:0.00608\n",
      "[17]\tvalidation_0-error:0.00518\n",
      "[18]\tvalidation_0-error:0.00487\n",
      "[19]\tvalidation_0-error:0.00470\n",
      "[20]\tvalidation_0-error:0.00430\n",
      "[21]\tvalidation_0-error:0.00377\n",
      "[22]\tvalidation_0-error:0.00373\n",
      "[23]\tvalidation_0-error:0.00345\n",
      "[24]\tvalidation_0-error:0.00325\n",
      "[25]\tvalidation_0-error:0.00318\n",
      "[26]\tvalidation_0-error:0.00301\n",
      "[27]\tvalidation_0-error:0.00268\n",
      "[28]\tvalidation_0-error:0.00252\n",
      "[29]\tvalidation_0-error:0.00261\n",
      "[30]\tvalidation_0-error:0.00230\n",
      "[31]\tvalidation_0-error:0.00233\n",
      "[32]\tvalidation_0-error:0.00228\n",
      "[33]\tvalidation_0-error:0.00213\n",
      "[34]\tvalidation_0-error:0.00204\n",
      "[35]\tvalidation_0-error:0.00198\n",
      "[36]\tvalidation_0-error:0.00195\n",
      "[37]\tvalidation_0-error:0.00195\n",
      "[38]\tvalidation_0-error:0.00189\n",
      "[39]\tvalidation_0-error:0.00173\n",
      "[40]\tvalidation_0-error:0.00173\n",
      "[41]\tvalidation_0-error:0.00149\n",
      "[42]\tvalidation_0-error:0.00140\n",
      "[43]\tvalidation_0-error:0.00138\n",
      "[44]\tvalidation_0-error:0.00136\n",
      "[45]\tvalidation_0-error:0.00136\n",
      "[46]\tvalidation_0-error:0.00129\n",
      "[47]\tvalidation_0-error:0.00116\n",
      "[48]\tvalidation_0-error:0.00114\n",
      "[49]\tvalidation_0-error:0.00108\n",
      "[50]\tvalidation_0-error:0.00108\n",
      "[51]\tvalidation_0-error:0.00105\n",
      "[52]\tvalidation_0-error:0.00097\n",
      "[53]\tvalidation_0-error:0.00092\n",
      "[54]\tvalidation_0-error:0.00088\n",
      "[55]\tvalidation_0-error:0.00086\n",
      "[56]\tvalidation_0-error:0.00086\n",
      "[57]\tvalidation_0-error:0.00083\n",
      "[58]\tvalidation_0-error:0.00081\n",
      "[59]\tvalidation_0-error:0.00081\n",
      "[60]\tvalidation_0-error:0.00083\n",
      "[61]\tvalidation_0-error:0.00077\n",
      "[62]\tvalidation_0-error:0.00081\n",
      "[63]\tvalidation_0-error:0.00075\n",
      "[64]\tvalidation_0-error:0.00072\n",
      "[65]\tvalidation_0-error:0.00070\n",
      "[66]\tvalidation_0-error:0.00068\n",
      "[67]\tvalidation_0-error:0.00068\n",
      "[68]\tvalidation_0-error:0.00070\n",
      "[69]\tvalidation_0-error:0.00070\n",
      "[70]\tvalidation_0-error:0.00070\n",
      "[71]\tvalidation_0-error:0.00070\n",
      "[72]\tvalidation_0-error:0.00070\n",
      "[73]\tvalidation_0-error:0.00070\n",
      "[74]\tvalidation_0-error:0.00070\n",
      "[75]\tvalidation_0-error:0.00070\n",
      "[76]\tvalidation_0-error:0.00068\n",
      "Stopping. Best iteration:\n",
      "[66]\tvalidation_0-error:0.00068\n",
      "\n"
     ]
    },
    {
     "data": {
      "text/plain": [
       "XGBClassifier(base_score=0.5, booster='gbtree', colsample_bylevel=1,\n",
       "              colsample_bynode=1, colsample_bytree=1, gamma=0, gpu_id=-1,\n",
       "              importance_type='gain', interaction_constraints='',\n",
       "              learning_rate=0.300000012, max_delta_step=0, max_depth=5,\n",
       "              min_child_weight=1, missing=nan, monotone_constraints='()',\n",
       "              n_estimators=100, n_jobs=-1, num_parallel_tree=1, random_state=42,\n",
       "              reg_alpha=0, reg_lambda=1, scale_pos_weight=1, subsample=1,\n",
       "              tree_method='exact', validate_parameters=1, verbosity=1)"
      ]
     },
     "execution_count": 32,
     "metadata": {},
     "output_type": "execute_result"
    }
   ],
   "source": [
    "xgb.fit(X_trainsm,y_trainsm,early_stopping_rounds=10,eval_set=[(X_val,y_val)])"
   ]
  },
  {
   "cell_type": "code",
   "execution_count": 37,
   "metadata": {},
   "outputs": [
    {
     "data": {
      "text/plain": [
       "array([0.00936838, 0.01721717, 0.0074037 , 0.0155289 , 0.06084084,\n",
       "       0.0028368 , 0.00442742, 0.0080187 , 0.01874845, 0.00594272,\n",
       "       0.08739559, 0.02067459, 0.03677052, 0.01307691, 0.5474884 ,\n",
       "       0.01002057, 0.00988437, 0.03224188, 0.00859835, 0.00619586,\n",
       "       0.00886336, 0.00917379, 0.00618211, 0.00434133, 0.00718178,\n",
       "       0.00619274, 0.00932774, 0.00560972, 0.00869945, 0.01174782],\n",
       "      dtype=float32)"
      ]
     },
     "execution_count": 37,
     "metadata": {},
     "output_type": "execute_result"
    }
   ],
   "source": [
    "xgb.feature_importances_"
   ]
  },
  {
   "cell_type": "code",
   "execution_count": 38,
   "metadata": {},
   "outputs": [],
   "source": [
    "feat_imp = pd.DataFrame(['Time', 'V1', 'V2', 'V3', 'V4', 'V5', 'V6', 'V7', 'V8', 'V9', 'V10',\n",
    "       'V11', 'V12', 'V13', 'V14', 'V15', 'V16', 'V17', 'V18', 'V19', 'V20',\n",
    "       'V21', 'V22', 'V23', 'V24', 'V25', 'V26', 'V27', 'V28', 'Amount'],columns=['Feature Name'])"
   ]
  },
  {
   "cell_type": "code",
   "execution_count": 39,
   "metadata": {},
   "outputs": [],
   "source": [
    "feat_imp['Feature Importances'] = xgb.feature_importances_"
   ]
  },
  {
   "cell_type": "code",
   "execution_count": 42,
   "metadata": {},
   "outputs": [
    {
     "data": {
      "text/html": [
       "<div>\n",
       "<style scoped>\n",
       "    .dataframe tbody tr th:only-of-type {\n",
       "        vertical-align: middle;\n",
       "    }\n",
       "\n",
       "    .dataframe tbody tr th {\n",
       "        vertical-align: top;\n",
       "    }\n",
       "\n",
       "    .dataframe thead th {\n",
       "        text-align: right;\n",
       "    }\n",
       "</style>\n",
       "<table border=\"1\" class=\"dataframe\">\n",
       "  <thead>\n",
       "    <tr style=\"text-align: right;\">\n",
       "      <th></th>\n",
       "      <th>Feature Name</th>\n",
       "      <th>Feature Importances</th>\n",
       "    </tr>\n",
       "  </thead>\n",
       "  <tbody>\n",
       "    <tr>\n",
       "      <th>14</th>\n",
       "      <td>V14</td>\n",
       "      <td>0.547488</td>\n",
       "    </tr>\n",
       "    <tr>\n",
       "      <th>10</th>\n",
       "      <td>V10</td>\n",
       "      <td>0.087396</td>\n",
       "    </tr>\n",
       "    <tr>\n",
       "      <th>4</th>\n",
       "      <td>V4</td>\n",
       "      <td>0.060841</td>\n",
       "    </tr>\n",
       "    <tr>\n",
       "      <th>12</th>\n",
       "      <td>V12</td>\n",
       "      <td>0.036771</td>\n",
       "    </tr>\n",
       "    <tr>\n",
       "      <th>17</th>\n",
       "      <td>V17</td>\n",
       "      <td>0.032242</td>\n",
       "    </tr>\n",
       "    <tr>\n",
       "      <th>11</th>\n",
       "      <td>V11</td>\n",
       "      <td>0.020675</td>\n",
       "    </tr>\n",
       "    <tr>\n",
       "      <th>8</th>\n",
       "      <td>V8</td>\n",
       "      <td>0.018748</td>\n",
       "    </tr>\n",
       "    <tr>\n",
       "      <th>1</th>\n",
       "      <td>V1</td>\n",
       "      <td>0.017217</td>\n",
       "    </tr>\n",
       "    <tr>\n",
       "      <th>3</th>\n",
       "      <td>V3</td>\n",
       "      <td>0.015529</td>\n",
       "    </tr>\n",
       "    <tr>\n",
       "      <th>13</th>\n",
       "      <td>V13</td>\n",
       "      <td>0.013077</td>\n",
       "    </tr>\n",
       "  </tbody>\n",
       "</table>\n",
       "</div>"
      ],
      "text/plain": [
       "   Feature Name  Feature Importances\n",
       "14          V14             0.547488\n",
       "10          V10             0.087396\n",
       "4            V4             0.060841\n",
       "12          V12             0.036771\n",
       "17          V17             0.032242\n",
       "11          V11             0.020675\n",
       "8            V8             0.018748\n",
       "1            V1             0.017217\n",
       "3            V3             0.015529\n",
       "13          V13             0.013077"
      ]
     },
     "execution_count": 42,
     "metadata": {},
     "output_type": "execute_result"
    }
   ],
   "source": [
    "feat_imp.sort_values('Feature Importances',ascending=False).head(10)"
   ]
  },
  {
   "cell_type": "code",
   "execution_count": 43,
   "metadata": {},
   "outputs": [],
   "source": [
    "xgb_prediction = xgb.predict(X_test)"
   ]
  },
  {
   "cell_type": "code",
   "execution_count": 48,
   "metadata": {},
   "outputs": [
    {
     "name": "stdout",
     "output_type": "stream",
     "text": [
      "Classification Report for Extreme Gradient Boosting \n",
      "\n",
      "\n",
      "               precision    recall  f1-score   support\n",
      "\n",
      "           0       1.00      1.00      1.00     56864\n",
      "           1       0.70      0.86      0.77        98\n",
      "\n",
      "    accuracy                           1.00     56962\n",
      "   macro avg       0.85      0.93      0.89     56962\n",
      "weighted avg       1.00      1.00      1.00     56962\n",
      "\n"
     ]
    }
   ],
   "source": [
    "print(\"Classification Report for Extreme Gradient Boosting \\n\\n\\n\",classification_report(y_test,xgb_prediction))"
   ]
  },
  {
   "cell_type": "code",
   "execution_count": 50,
   "metadata": {},
   "outputs": [
    {
     "name": "stdout",
     "output_type": "stream",
     "text": [
      "Confusion Matrix for Extreme Gradient Boosting \n",
      " [[56828    36]\n",
      " [   14    84]]\n"
     ]
    }
   ],
   "source": [
    "print(\"Confusion Matrix for Extreme Gradient Boosting \\n\",confusion_matrix(y_test,xgb_prediction))"
   ]
  },
  {
   "cell_type": "code",
   "execution_count": 11,
   "metadata": {},
   "outputs": [],
   "source": [
    "def timer(start_time=None):\n",
    "    if not start_time:\n",
    "        start_time = datetime.now()\n",
    "        return start_time\n",
    "    elif start_time:\n",
    "        thour, temp_sec = divmod((datetime.now() - start_time).total_seconds(), 3600)\n",
    "        tmin, tsec = divmod(temp_sec, 60)\n",
    "        print('\\n Time taken: %i hours %i minutes and %s seconds.' % (thour, tmin, round(tsec, 2)))"
   ]
  },
  {
   "cell_type": "code",
   "execution_count": 12,
   "metadata": {},
   "outputs": [],
   "source": [
    "# A parameter grid for XGBoost\n",
    "params = {\n",
    "        'min_child_weight': [1, 5, 10],\n",
    "        'gamma': [0.5, 1, 1.5, 2, 5],\n",
    "        'subsample': [0.6, 0.8, 1.0],\n",
    "        'colsample_bytree': [0.6, 0.8, 1.0],\n",
    "        'max_depth': [3, 4, 5]\n",
    "        }"
   ]
  },
  {
   "cell_type": "code",
   "execution_count": 13,
   "metadata": {},
   "outputs": [],
   "source": [
    "xgb = XGBClassifier(n_estimators=100,verbosity=3,n_jobs=-1,random_state=42)"
   ]
  },
  {
   "cell_type": "code",
   "execution_count": 14,
   "metadata": {},
   "outputs": [],
   "source": [
    "skf = StratifiedKFold(n_splits=5, shuffle = True, random_state = 101)\n",
    "random_search = RandomizedSearchCV(xgb, param_distributions=params, n_iter=5, scoring='roc_auc', \n",
    "                                   n_jobs=-1, cv=skf.split(X_trainsm,y_trainsm), verbose=1, random_state=101)"
   ]
  },
  {
   "cell_type": "code",
   "execution_count": 15,
   "metadata": {
    "scrolled": true
   },
   "outputs": [
    {
     "name": "stdout",
     "output_type": "stream",
     "text": [
      "Fitting 5 folds for each of 5 candidates, totalling 25 fits\n"
     ]
    },
    {
     "name": "stderr",
     "output_type": "stream",
     "text": [
      "[Parallel(n_jobs=-1)]: Using backend LokyBackend with 8 concurrent workers.\n",
      "[Parallel(n_jobs=-1)]: Done  25 out of  25 | elapsed: 12.2min finished\n"
     ]
    },
    {
     "name": "stdout",
     "output_type": "stream",
     "text": [
      "[08:32:02] DEBUG: C:\\Users\\Administrator\\workspace\\xgboost-win64_release_1.2.0\\src\\gbm\\gbtree.cc:147: Using tree method: 2\n",
      "[08:32:03] INFO: C:\\Users\\Administrator\\workspace\\xgboost-win64_release_1.2.0\\src\\tree\\updater_prune.cc:101: tree pruning end, 28 extra nodes, 0 pruned nodes, max_depth=4\n",
      "[0]\tvalidation_0-error:0.03805\n",
      "Will train until validation_0-error hasn't improved in 10 rounds.\n",
      "[08:32:04] INFO: C:\\Users\\Administrator\\workspace\\xgboost-win64_release_1.2.0\\src\\tree\\updater_prune.cc:101: tree pruning end, 30 extra nodes, 0 pruned nodes, max_depth=4\n",
      "[1]\tvalidation_0-error:0.02971\n",
      "[08:32:04] INFO: C:\\Users\\Administrator\\workspace\\xgboost-win64_release_1.2.0\\src\\tree\\updater_prune.cc:101: tree pruning end, 30 extra nodes, 0 pruned nodes, max_depth=4\n",
      "[2]\tvalidation_0-error:0.01510\n",
      "[08:32:04] INFO: C:\\Users\\Administrator\\workspace\\xgboost-win64_release_1.2.0\\src\\tree\\updater_prune.cc:101: tree pruning end, 30 extra nodes, 0 pruned nodes, max_depth=4\n",
      "[3]\tvalidation_0-error:0.01444\n",
      "[08:32:05] INFO: C:\\Users\\Administrator\\workspace\\xgboost-win64_release_1.2.0\\src\\tree\\updater_prune.cc:101: tree pruning end, 30 extra nodes, 0 pruned nodes, max_depth=4\n",
      "[4]\tvalidation_0-error:0.01534\n",
      "[08:32:05] INFO: C:\\Users\\Administrator\\workspace\\xgboost-win64_release_1.2.0\\src\\tree\\updater_prune.cc:101: tree pruning end, 30 extra nodes, 0 pruned nodes, max_depth=4\n",
      "[5]\tvalidation_0-error:0.01284\n",
      "[08:32:06] INFO: C:\\Users\\Administrator\\workspace\\xgboost-win64_release_1.2.0\\src\\tree\\updater_prune.cc:101: tree pruning end, 28 extra nodes, 0 pruned nodes, max_depth=4\n",
      "[6]\tvalidation_0-error:0.01527\n",
      "[08:32:07] INFO: C:\\Users\\Administrator\\workspace\\xgboost-win64_release_1.2.0\\src\\tree\\updater_prune.cc:101: tree pruning end, 26 extra nodes, 2 pruned nodes, max_depth=4\n",
      "[7]\tvalidation_0-error:0.01481\n",
      "[08:32:07] INFO: C:\\Users\\Administrator\\workspace\\xgboost-win64_release_1.2.0\\src\\tree\\updater_prune.cc:101: tree pruning end, 30 extra nodes, 0 pruned nodes, max_depth=4\n",
      "[8]\tvalidation_0-error:0.01290\n",
      "[08:32:08] INFO: C:\\Users\\Administrator\\workspace\\xgboost-win64_release_1.2.0\\src\\tree\\updater_prune.cc:101: tree pruning end, 28 extra nodes, 2 pruned nodes, max_depth=4\n",
      "[9]\tvalidation_0-error:0.01242\n",
      "[08:32:08] INFO: C:\\Users\\Administrator\\workspace\\xgboost-win64_release_1.2.0\\src\\tree\\updater_prune.cc:101: tree pruning end, 30 extra nodes, 0 pruned nodes, max_depth=4\n",
      "[10]\tvalidation_0-error:0.01220\n",
      "[08:32:08] INFO: C:\\Users\\Administrator\\workspace\\xgboost-win64_release_1.2.0\\src\\tree\\updater_prune.cc:101: tree pruning end, 28 extra nodes, 2 pruned nodes, max_depth=4\n",
      "[11]\tvalidation_0-error:0.01198\n",
      "[08:32:09] INFO: C:\\Users\\Administrator\\workspace\\xgboost-win64_release_1.2.0\\src\\tree\\updater_prune.cc:101: tree pruning end, 24 extra nodes, 2 pruned nodes, max_depth=4\n",
      "[12]\tvalidation_0-error:0.01251\n",
      "[08:32:09] INFO: C:\\Users\\Administrator\\workspace\\xgboost-win64_release_1.2.0\\src\\tree\\updater_prune.cc:101: tree pruning end, 28 extra nodes, 2 pruned nodes, max_depth=4\n",
      "[13]\tvalidation_0-error:0.01117\n",
      "[08:32:10] INFO: C:\\Users\\Administrator\\workspace\\xgboost-win64_release_1.2.0\\src\\tree\\updater_prune.cc:101: tree pruning end, 30 extra nodes, 0 pruned nodes, max_depth=4\n",
      "[14]\tvalidation_0-error:0.00988\n",
      "[08:32:10] INFO: C:\\Users\\Administrator\\workspace\\xgboost-win64_release_1.2.0\\src\\tree\\updater_prune.cc:101: tree pruning end, 30 extra nodes, 0 pruned nodes, max_depth=4\n",
      "[15]\tvalidation_0-error:0.00878\n",
      "[08:32:10] INFO: C:\\Users\\Administrator\\workspace\\xgboost-win64_release_1.2.0\\src\\tree\\updater_prune.cc:101: tree pruning end, 24 extra nodes, 0 pruned nodes, max_depth=4\n",
      "[16]\tvalidation_0-error:0.00895\n",
      "[08:32:11] INFO: C:\\Users\\Administrator\\workspace\\xgboost-win64_release_1.2.0\\src\\tree\\updater_prune.cc:101: tree pruning end, 30 extra nodes, 0 pruned nodes, max_depth=4\n",
      "[17]\tvalidation_0-error:0.00788\n",
      "[08:32:11] INFO: C:\\Users\\Administrator\\workspace\\xgboost-win64_release_1.2.0\\src\\tree\\updater_prune.cc:101: tree pruning end, 30 extra nodes, 0 pruned nodes, max_depth=4\n",
      "[18]\tvalidation_0-error:0.00720\n",
      "[08:32:12] INFO: C:\\Users\\Administrator\\workspace\\xgboost-win64_release_1.2.0\\src\\tree\\updater_prune.cc:101: tree pruning end, 28 extra nodes, 0 pruned nodes, max_depth=4\n",
      "[19]\tvalidation_0-error:0.00689\n",
      "[08:32:12] INFO: C:\\Users\\Administrator\\workspace\\xgboost-win64_release_1.2.0\\src\\tree\\updater_prune.cc:101: tree pruning end, 26 extra nodes, 2 pruned nodes, max_depth=4\n",
      "[20]\tvalidation_0-error:0.00645\n",
      "[08:32:13] INFO: C:\\Users\\Administrator\\workspace\\xgboost-win64_release_1.2.0\\src\\tree\\updater_prune.cc:101: tree pruning end, 28 extra nodes, 2 pruned nodes, max_depth=4\n",
      "[21]\tvalidation_0-error:0.00650\n",
      "[08:32:13] INFO: C:\\Users\\Administrator\\workspace\\xgboost-win64_release_1.2.0\\src\\tree\\updater_prune.cc:101: tree pruning end, 28 extra nodes, 2 pruned nodes, max_depth=4\n",
      "[22]\tvalidation_0-error:0.00599\n",
      "[08:32:14] INFO: C:\\Users\\Administrator\\workspace\\xgboost-win64_release_1.2.0\\src\\tree\\updater_prune.cc:101: tree pruning end, 30 extra nodes, 0 pruned nodes, max_depth=4\n",
      "[23]\tvalidation_0-error:0.00575\n",
      "[08:32:14] INFO: C:\\Users\\Administrator\\workspace\\xgboost-win64_release_1.2.0\\src\\tree\\updater_prune.cc:101: tree pruning end, 28 extra nodes, 0 pruned nodes, max_depth=4\n",
      "[24]\tvalidation_0-error:0.00498\n",
      "[08:32:15] INFO: C:\\Users\\Administrator\\workspace\\xgboost-win64_release_1.2.0\\src\\tree\\updater_prune.cc:101: tree pruning end, 30 extra nodes, 0 pruned nodes, max_depth=4\n",
      "[25]\tvalidation_0-error:0.00472\n",
      "[08:32:15] INFO: C:\\Users\\Administrator\\workspace\\xgboost-win64_release_1.2.0\\src\\tree\\updater_prune.cc:101: tree pruning end, 26 extra nodes, 2 pruned nodes, max_depth=4\n",
      "[26]\tvalidation_0-error:0.00424\n",
      "[08:32:16] INFO: C:\\Users\\Administrator\\workspace\\xgboost-win64_release_1.2.0\\src\\tree\\updater_prune.cc:101: tree pruning end, 30 extra nodes, 0 pruned nodes, max_depth=4\n",
      "[27]\tvalidation_0-error:0.00391\n",
      "[08:32:16] INFO: C:\\Users\\Administrator\\workspace\\xgboost-win64_release_1.2.0\\src\\tree\\updater_prune.cc:101: tree pruning end, 20 extra nodes, 2 pruned nodes, max_depth=4\n",
      "[28]\tvalidation_0-error:0.00369\n",
      "[08:32:17] INFO: C:\\Users\\Administrator\\workspace\\xgboost-win64_release_1.2.0\\src\\tree\\updater_prune.cc:101: tree pruning end, 30 extra nodes, 0 pruned nodes, max_depth=4\n",
      "[29]\tvalidation_0-error:0.00347\n",
      "[08:32:17] INFO: C:\\Users\\Administrator\\workspace\\xgboost-win64_release_1.2.0\\src\\tree\\updater_prune.cc:101: tree pruning end, 22 extra nodes, 2 pruned nodes, max_depth=4\n",
      "[30]\tvalidation_0-error:0.00342\n",
      "[08:32:17] INFO: C:\\Users\\Administrator\\workspace\\xgboost-win64_release_1.2.0\\src\\tree\\updater_prune.cc:101: tree pruning end, 24 extra nodes, 0 pruned nodes, max_depth=4\n",
      "[31]\tvalidation_0-error:0.00351\n",
      "[08:32:18] INFO: C:\\Users\\Administrator\\workspace\\xgboost-win64_release_1.2.0\\src\\tree\\updater_prune.cc:101: tree pruning end, 18 extra nodes, 0 pruned nodes, max_depth=4\n",
      "[32]\tvalidation_0-error:0.00342\n",
      "[08:32:18] INFO: C:\\Users\\Administrator\\workspace\\xgboost-win64_release_1.2.0\\src\\tree\\updater_prune.cc:101: tree pruning end, 18 extra nodes, 0 pruned nodes, max_depth=4\n",
      "[33]\tvalidation_0-error:0.00336\n",
      "[08:32:19] INFO: C:\\Users\\Administrator\\workspace\\xgboost-win64_release_1.2.0\\src\\tree\\updater_prune.cc:101: tree pruning end, 24 extra nodes, 2 pruned nodes, max_depth=4\n",
      "[34]\tvalidation_0-error:0.00307\n",
      "[08:32:19] INFO: C:\\Users\\Administrator\\workspace\\xgboost-win64_release_1.2.0\\src\\tree\\updater_prune.cc:101: tree pruning end, 28 extra nodes, 2 pruned nodes, max_depth=4\n",
      "[35]\tvalidation_0-error:0.00277\n",
      "[08:32:20] INFO: C:\\Users\\Administrator\\workspace\\xgboost-win64_release_1.2.0\\src\\tree\\updater_prune.cc:101: tree pruning end, 28 extra nodes, 0 pruned nodes, max_depth=4\n",
      "[36]\tvalidation_0-error:0.00270\n",
      "[08:32:20] INFO: C:\\Users\\Administrator\\workspace\\xgboost-win64_release_1.2.0\\src\\tree\\updater_prune.cc:101: tree pruning end, 16 extra nodes, 2 pruned nodes, max_depth=4\n",
      "[37]\tvalidation_0-error:0.00270\n",
      "[08:32:21] INFO: C:\\Users\\Administrator\\workspace\\xgboost-win64_release_1.2.0\\src\\tree\\updater_prune.cc:101: tree pruning end, 30 extra nodes, 0 pruned nodes, max_depth=4\n",
      "[38]\tvalidation_0-error:0.00257\n",
      "[08:32:21] INFO: C:\\Users\\Administrator\\workspace\\xgboost-win64_release_1.2.0\\src\\tree\\updater_prune.cc:101: tree pruning end, 28 extra nodes, 0 pruned nodes, max_depth=4\n",
      "[39]\tvalidation_0-error:0.00255\n"
     ]
    },
    {
     "name": "stdout",
     "output_type": "stream",
     "text": [
      "[08:32:22] INFO: C:\\Users\\Administrator\\workspace\\xgboost-win64_release_1.2.0\\src\\tree\\updater_prune.cc:101: tree pruning end, 22 extra nodes, 4 pruned nodes, max_depth=4\n",
      "[40]\tvalidation_0-error:0.00252\n",
      "[08:32:22] INFO: C:\\Users\\Administrator\\workspace\\xgboost-win64_release_1.2.0\\src\\tree\\updater_prune.cc:101: tree pruning end, 24 extra nodes, 0 pruned nodes, max_depth=4\n",
      "[41]\tvalidation_0-error:0.00241\n",
      "[08:32:22] INFO: C:\\Users\\Administrator\\workspace\\xgboost-win64_release_1.2.0\\src\\tree\\updater_prune.cc:101: tree pruning end, 24 extra nodes, 6 pruned nodes, max_depth=4\n",
      "[42]\tvalidation_0-error:0.00241\n",
      "[08:32:23] INFO: C:\\Users\\Administrator\\workspace\\xgboost-win64_release_1.2.0\\src\\tree\\updater_prune.cc:101: tree pruning end, 30 extra nodes, 0 pruned nodes, max_depth=4\n",
      "[43]\tvalidation_0-error:0.00222\n",
      "[08:32:23] INFO: C:\\Users\\Administrator\\workspace\\xgboost-win64_release_1.2.0\\src\\tree\\updater_prune.cc:101: tree pruning end, 28 extra nodes, 2 pruned nodes, max_depth=4\n",
      "[44]\tvalidation_0-error:0.00211\n",
      "[08:32:24] INFO: C:\\Users\\Administrator\\workspace\\xgboost-win64_release_1.2.0\\src\\tree\\updater_prune.cc:101: tree pruning end, 14 extra nodes, 4 pruned nodes, max_depth=4\n",
      "[45]\tvalidation_0-error:0.00206\n",
      "[08:32:24] INFO: C:\\Users\\Administrator\\workspace\\xgboost-win64_release_1.2.0\\src\\tree\\updater_prune.cc:101: tree pruning end, 28 extra nodes, 2 pruned nodes, max_depth=4\n",
      "[46]\tvalidation_0-error:0.00209\n",
      "[08:32:24] INFO: C:\\Users\\Administrator\\workspace\\xgboost-win64_release_1.2.0\\src\\tree\\updater_prune.cc:101: tree pruning end, 24 extra nodes, 2 pruned nodes, max_depth=4\n",
      "[47]\tvalidation_0-error:0.00191\n",
      "[08:32:25] INFO: C:\\Users\\Administrator\\workspace\\xgboost-win64_release_1.2.0\\src\\tree\\updater_prune.cc:101: tree pruning end, 18 extra nodes, 8 pruned nodes, max_depth=4\n",
      "[48]\tvalidation_0-error:0.00184\n",
      "[08:32:25] INFO: C:\\Users\\Administrator\\workspace\\xgboost-win64_release_1.2.0\\src\\tree\\updater_prune.cc:101: tree pruning end, 16 extra nodes, 2 pruned nodes, max_depth=4\n",
      "[49]\tvalidation_0-error:0.00178\n",
      "[08:32:26] INFO: C:\\Users\\Administrator\\workspace\\xgboost-win64_release_1.2.0\\src\\tree\\updater_prune.cc:101: tree pruning end, 26 extra nodes, 2 pruned nodes, max_depth=4\n",
      "[50]\tvalidation_0-error:0.00162\n",
      "[08:32:26] INFO: C:\\Users\\Administrator\\workspace\\xgboost-win64_release_1.2.0\\src\\tree\\updater_prune.cc:101: tree pruning end, 22 extra nodes, 2 pruned nodes, max_depth=4\n",
      "[51]\tvalidation_0-error:0.00158\n",
      "[08:32:27] INFO: C:\\Users\\Administrator\\workspace\\xgboost-win64_release_1.2.0\\src\\tree\\updater_prune.cc:101: tree pruning end, 28 extra nodes, 2 pruned nodes, max_depth=4\n",
      "[52]\tvalidation_0-error:0.00149\n",
      "[08:32:27] INFO: C:\\Users\\Administrator\\workspace\\xgboost-win64_release_1.2.0\\src\\tree\\updater_prune.cc:101: tree pruning end, 20 extra nodes, 2 pruned nodes, max_depth=4\n",
      "[53]\tvalidation_0-error:0.00143\n",
      "[08:32:27] INFO: C:\\Users\\Administrator\\workspace\\xgboost-win64_release_1.2.0\\src\\tree\\updater_prune.cc:101: tree pruning end, 26 extra nodes, 2 pruned nodes, max_depth=4\n",
      "[54]\tvalidation_0-error:0.00143\n",
      "[08:32:28] INFO: C:\\Users\\Administrator\\workspace\\xgboost-win64_release_1.2.0\\src\\tree\\updater_prune.cc:101: tree pruning end, 28 extra nodes, 0 pruned nodes, max_depth=4\n",
      "[55]\tvalidation_0-error:0.00136\n",
      "[08:32:28] INFO: C:\\Users\\Administrator\\workspace\\xgboost-win64_release_1.2.0\\src\\tree\\updater_prune.cc:101: tree pruning end, 20 extra nodes, 2 pruned nodes, max_depth=4\n",
      "[56]\tvalidation_0-error:0.00134\n",
      "[08:32:29] INFO: C:\\Users\\Administrator\\workspace\\xgboost-win64_release_1.2.0\\src\\tree\\updater_prune.cc:101: tree pruning end, 28 extra nodes, 2 pruned nodes, max_depth=4\n",
      "[57]\tvalidation_0-error:0.00134\n",
      "[08:32:29] INFO: C:\\Users\\Administrator\\workspace\\xgboost-win64_release_1.2.0\\src\\tree\\updater_prune.cc:101: tree pruning end, 20 extra nodes, 0 pruned nodes, max_depth=4\n",
      "[58]\tvalidation_0-error:0.00132\n",
      "[08:32:29] INFO: C:\\Users\\Administrator\\workspace\\xgboost-win64_release_1.2.0\\src\\tree\\updater_prune.cc:101: tree pruning end, 18 extra nodes, 2 pruned nodes, max_depth=4\n",
      "[59]\tvalidation_0-error:0.00132\n",
      "[08:32:30] INFO: C:\\Users\\Administrator\\workspace\\xgboost-win64_release_1.2.0\\src\\tree\\updater_prune.cc:101: tree pruning end, 30 extra nodes, 0 pruned nodes, max_depth=4\n",
      "[60]\tvalidation_0-error:0.00129\n",
      "[08:32:30] INFO: C:\\Users\\Administrator\\workspace\\xgboost-win64_release_1.2.0\\src\\tree\\updater_prune.cc:101: tree pruning end, 26 extra nodes, 0 pruned nodes, max_depth=4\n",
      "[61]\tvalidation_0-error:0.00125\n",
      "[08:32:31] INFO: C:\\Users\\Administrator\\workspace\\xgboost-win64_release_1.2.0\\src\\tree\\updater_prune.cc:101: tree pruning end, 30 extra nodes, 0 pruned nodes, max_depth=4\n",
      "[62]\tvalidation_0-error:0.00125\n",
      "[08:32:31] INFO: C:\\Users\\Administrator\\workspace\\xgboost-win64_release_1.2.0\\src\\tree\\updater_prune.cc:101: tree pruning end, 22 extra nodes, 4 pruned nodes, max_depth=4\n",
      "[63]\tvalidation_0-error:0.00119\n",
      "[08:32:31] INFO: C:\\Users\\Administrator\\workspace\\xgboost-win64_release_1.2.0\\src\\tree\\updater_prune.cc:101: tree pruning end, 12 extra nodes, 2 pruned nodes, max_depth=4\n",
      "[64]\tvalidation_0-error:0.00119\n",
      "[08:32:32] INFO: C:\\Users\\Administrator\\workspace\\xgboost-win64_release_1.2.0\\src\\tree\\updater_prune.cc:101: tree pruning end, 24 extra nodes, 4 pruned nodes, max_depth=4\n",
      "[65]\tvalidation_0-error:0.00114\n",
      "[08:32:32] INFO: C:\\Users\\Administrator\\workspace\\xgboost-win64_release_1.2.0\\src\\tree\\updater_prune.cc:101: tree pruning end, 22 extra nodes, 2 pruned nodes, max_depth=4\n",
      "[66]\tvalidation_0-error:0.00112\n",
      "[08:32:33] INFO: C:\\Users\\Administrator\\workspace\\xgboost-win64_release_1.2.0\\src\\tree\\updater_prune.cc:101: tree pruning end, 28 extra nodes, 2 pruned nodes, max_depth=4\n",
      "[67]\tvalidation_0-error:0.00110\n",
      "[08:32:33] INFO: C:\\Users\\Administrator\\workspace\\xgboost-win64_release_1.2.0\\src\\tree\\updater_prune.cc:101: tree pruning end, 26 extra nodes, 2 pruned nodes, max_depth=4\n",
      "[68]\tvalidation_0-error:0.00108\n",
      "[08:32:34] INFO: C:\\Users\\Administrator\\workspace\\xgboost-win64_release_1.2.0\\src\\tree\\updater_prune.cc:101: tree pruning end, 28 extra nodes, 2 pruned nodes, max_depth=4\n",
      "[69]\tvalidation_0-error:0.00103\n",
      "[08:32:34] INFO: C:\\Users\\Administrator\\workspace\\xgboost-win64_release_1.2.0\\src\\tree\\updater_prune.cc:101: tree pruning end, 18 extra nodes, 6 pruned nodes, max_depth=4\n",
      "[70]\tvalidation_0-error:0.00099\n",
      "[08:32:35] INFO: C:\\Users\\Administrator\\workspace\\xgboost-win64_release_1.2.0\\src\\tree\\updater_prune.cc:101: tree pruning end, 26 extra nodes, 4 pruned nodes, max_depth=4\n",
      "[71]\tvalidation_0-error:0.00097\n",
      "[08:32:35] INFO: C:\\Users\\Administrator\\workspace\\xgboost-win64_release_1.2.0\\src\\tree\\updater_prune.cc:101: tree pruning end, 16 extra nodes, 2 pruned nodes, max_depth=4\n",
      "[72]\tvalidation_0-error:0.00099\n",
      "[08:32:36] INFO: C:\\Users\\Administrator\\workspace\\xgboost-win64_release_1.2.0\\src\\tree\\updater_prune.cc:101: tree pruning end, 30 extra nodes, 0 pruned nodes, max_depth=4\n",
      "[73]\tvalidation_0-error:0.00097\n",
      "[08:32:36] INFO: C:\\Users\\Administrator\\workspace\\xgboost-win64_release_1.2.0\\src\\tree\\updater_prune.cc:101: tree pruning end, 20 extra nodes, 2 pruned nodes, max_depth=4\n",
      "[74]\tvalidation_0-error:0.00097\n",
      "[08:32:36] INFO: C:\\Users\\Administrator\\workspace\\xgboost-win64_release_1.2.0\\src\\tree\\updater_prune.cc:101: tree pruning end, 24 extra nodes, 2 pruned nodes, max_depth=4\n",
      "[75]\tvalidation_0-error:0.00097\n",
      "[08:32:37] INFO: C:\\Users\\Administrator\\workspace\\xgboost-win64_release_1.2.0\\src\\tree\\updater_prune.cc:101: tree pruning end, 22 extra nodes, 6 pruned nodes, max_depth=4\n",
      "[76]\tvalidation_0-error:0.00092\n",
      "[08:32:37] INFO: C:\\Users\\Administrator\\workspace\\xgboost-win64_release_1.2.0\\src\\tree\\updater_prune.cc:101: tree pruning end, 24 extra nodes, 4 pruned nodes, max_depth=4\n",
      "[77]\tvalidation_0-error:0.00092\n",
      "[08:32:38] INFO: C:\\Users\\Administrator\\workspace\\xgboost-win64_release_1.2.0\\src\\tree\\updater_prune.cc:101: tree pruning end, 26 extra nodes, 2 pruned nodes, max_depth=4\n",
      "[78]\tvalidation_0-error:0.00097\n",
      "[08:32:38] INFO: C:\\Users\\Administrator\\workspace\\xgboost-win64_release_1.2.0\\src\\tree\\updater_prune.cc:101: tree pruning end, 20 extra nodes, 8 pruned nodes, max_depth=4\n",
      "[79]\tvalidation_0-error:0.00099\n",
      "[08:32:39] INFO: C:\\Users\\Administrator\\workspace\\xgboost-win64_release_1.2.0\\src\\tree\\updater_prune.cc:101: tree pruning end, 28 extra nodes, 0 pruned nodes, max_depth=4\n",
      "[80]\tvalidation_0-error:0.00097\n"
     ]
    },
    {
     "name": "stdout",
     "output_type": "stream",
     "text": [
      "[08:32:39] INFO: C:\\Users\\Administrator\\workspace\\xgboost-win64_release_1.2.0\\src\\tree\\updater_prune.cc:101: tree pruning end, 24 extra nodes, 0 pruned nodes, max_depth=4\n",
      "[81]\tvalidation_0-error:0.00092\n",
      "[08:32:40] INFO: C:\\Users\\Administrator\\workspace\\xgboost-win64_release_1.2.0\\src\\tree\\updater_prune.cc:101: tree pruning end, 24 extra nodes, 6 pruned nodes, max_depth=4\n",
      "[82]\tvalidation_0-error:0.00092\n",
      "[08:32:40] INFO: C:\\Users\\Administrator\\workspace\\xgboost-win64_release_1.2.0\\src\\tree\\updater_prune.cc:101: tree pruning end, 22 extra nodes, 4 pruned nodes, max_depth=4\n",
      "[83]\tvalidation_0-error:0.00088\n",
      "[08:32:41] INFO: C:\\Users\\Administrator\\workspace\\xgboost-win64_release_1.2.0\\src\\tree\\updater_prune.cc:101: tree pruning end, 12 extra nodes, 2 pruned nodes, max_depth=4\n",
      "[84]\tvalidation_0-error:0.00083\n",
      "[08:32:41] INFO: C:\\Users\\Administrator\\workspace\\xgboost-win64_release_1.2.0\\src\\tree\\updater_prune.cc:101: tree pruning end, 16 extra nodes, 4 pruned nodes, max_depth=4\n",
      "[85]\tvalidation_0-error:0.00083\n",
      "[08:32:41] INFO: C:\\Users\\Administrator\\workspace\\xgboost-win64_release_1.2.0\\src\\tree\\updater_prune.cc:101: tree pruning end, 16 extra nodes, 8 pruned nodes, max_depth=4\n",
      "[86]\tvalidation_0-error:0.00086\n",
      "[08:32:42] INFO: C:\\Users\\Administrator\\workspace\\xgboost-win64_release_1.2.0\\src\\tree\\updater_prune.cc:101: tree pruning end, 28 extra nodes, 0 pruned nodes, max_depth=4\n",
      "[87]\tvalidation_0-error:0.00090\n",
      "[08:32:42] INFO: C:\\Users\\Administrator\\workspace\\xgboost-win64_release_1.2.0\\src\\tree\\updater_prune.cc:101: tree pruning end, 24 extra nodes, 4 pruned nodes, max_depth=4\n",
      "[88]\tvalidation_0-error:0.00090\n",
      "[08:32:43] INFO: C:\\Users\\Administrator\\workspace\\xgboost-win64_release_1.2.0\\src\\tree\\updater_prune.cc:101: tree pruning end, 22 extra nodes, 4 pruned nodes, max_depth=4\n",
      "[89]\tvalidation_0-error:0.00088\n",
      "[08:32:43] INFO: C:\\Users\\Administrator\\workspace\\xgboost-win64_release_1.2.0\\src\\tree\\updater_prune.cc:101: tree pruning end, 28 extra nodes, 0 pruned nodes, max_depth=4\n",
      "[90]\tvalidation_0-error:0.00092\n",
      "[08:32:44] INFO: C:\\Users\\Administrator\\workspace\\xgboost-win64_release_1.2.0\\src\\tree\\updater_prune.cc:101: tree pruning end, 24 extra nodes, 2 pruned nodes, max_depth=4\n",
      "[91]\tvalidation_0-error:0.00083\n",
      "[08:32:44] INFO: C:\\Users\\Administrator\\workspace\\xgboost-win64_release_1.2.0\\src\\tree\\updater_prune.cc:101: tree pruning end, 24 extra nodes, 6 pruned nodes, max_depth=4\n",
      "[92]\tvalidation_0-error:0.00088\n",
      "[08:32:45] INFO: C:\\Users\\Administrator\\workspace\\xgboost-win64_release_1.2.0\\src\\tree\\updater_prune.cc:101: tree pruning end, 16 extra nodes, 0 pruned nodes, max_depth=4\n",
      "[93]\tvalidation_0-error:0.00088\n",
      "[08:32:45] INFO: C:\\Users\\Administrator\\workspace\\xgboost-win64_release_1.2.0\\src\\tree\\updater_prune.cc:101: tree pruning end, 18 extra nodes, 10 pruned nodes, max_depth=4\n",
      "[94]\tvalidation_0-error:0.00088\n",
      "Stopping. Best iteration:\n",
      "[84]\tvalidation_0-error:0.00083\n",
      "\n",
      "[08:32:45] ======== Monitor: Learner ========\n",
      "[08:32:45] Configure: 0s, 1 calls @ 0us\n",
      "\n",
      "[08:32:45] EvalOneIter: 0.417419s, 95 calls @ 417419us\n",
      "\n",
      "[08:32:45] GetGradient: 0.804003s, 95 calls @ 804003us\n",
      "\n",
      "[08:32:45] PredictRaw: 2.27543s, 95 calls @ 2275428us\n",
      "\n",
      "[08:32:45] UpdateOneIter: 41.5201s, 95 calls @ 41520076us\n",
      "\n",
      "[08:32:45] ======== Monitor: GBTree ========\n",
      "[08:32:45] BoostNewTrees: 39.2254s, 95 calls @ 39225352us\n",
      "\n",
      "[08:32:45] CommitModel: 0.000464s, 95 calls @ 464us\n",
      "\n",
      "[08:32:45] ======== Monitor: TreePruner ========\n",
      "[08:32:45] PrunerUpdate: 0.076861s, 95 calls @ 76861us\n",
      "\n",
      "\n",
      " Time taken: 0 hours 12 minutes and 58.09 seconds.\n"
     ]
    }
   ],
   "source": [
    "start_time = timer(None)\n",
    "random_search.fit(X_trainsm,y_trainsm,early_stopping_rounds=10,eval_set=[(X_val,y_val)])\n",
    "timer(start_time)"
   ]
  },
  {
   "cell_type": "code",
   "execution_count": 17,
   "metadata": {},
   "outputs": [
    {
     "data": {
      "text/plain": [
       "XGBClassifier(base_score=0.5, booster='gbtree', colsample_bylevel=1,\n",
       "              colsample_bynode=1, colsample_bytree=1.0, gamma=2, gpu_id=-1,\n",
       "              importance_type='gain', interaction_constraints='',\n",
       "              learning_rate=0.300000012, max_delta_step=0, max_depth=4,\n",
       "              min_child_weight=1, missing=nan, monotone_constraints='()',\n",
       "              n_estimators=100, n_jobs=-1, num_parallel_tree=1, random_state=42,\n",
       "              reg_alpha=0, reg_lambda=1, scale_pos_weight=1, subsample=0.6,\n",
       "              tree_method='exact', validate_parameters=1, verbosity=3)"
      ]
     },
     "execution_count": 17,
     "metadata": {},
     "output_type": "execute_result"
    }
   ],
   "source": [
    "random_search.best_estimator_"
   ]
  },
  {
   "cell_type": "code",
   "execution_count": 18,
   "metadata": {},
   "outputs": [
    {
     "data": {
      "text/plain": [
       "{'subsample': 0.6,\n",
       " 'min_child_weight': 1,\n",
       " 'max_depth': 4,\n",
       " 'gamma': 2,\n",
       " 'colsample_bytree': 1.0}"
      ]
     },
     "execution_count": 18,
     "metadata": {},
     "output_type": "execute_result"
    }
   ],
   "source": [
    "random_search.best_params_"
   ]
  },
  {
   "cell_type": "markdown",
   "metadata": {},
   "source": [
    "The hyperparametrs need to be tuned further as we had only 5 iterations in the randomized search and also some of the hyperparametrs are from the end "
   ]
  },
  {
   "cell_type": "code",
   "execution_count": 19,
   "metadata": {},
   "outputs": [
    {
     "data": {
      "text/plain": [
       "{'mean_fit_time': array([228.6882772 ,  29.68213105, 193.11487565, 355.00734129,\n",
       "        222.86075273]),\n",
       " 'std_fit_time': array([ 0.94757504,  3.19502437, 73.66814628, 14.8403803 , 67.83660046]),\n",
       " 'mean_score_time': array([0.73124566, 0.27167912, 0.77146583, 0.88842554, 0.52000384]),\n",
       " 'std_score_time': array([0.01935282, 0.03526943, 0.28866786, 0.1684275 , 0.20513182]),\n",
       " 'param_subsample': masked_array(data=[1.0, 0.8, 1.0, 0.8, 0.6],\n",
       "              mask=[False, False, False, False, False],\n",
       "        fill_value='?',\n",
       "             dtype=object),\n",
       " 'param_min_child_weight': masked_array(data=[5, 10, 10, 10, 1],\n",
       "              mask=[False, False, False, False, False],\n",
       "        fill_value='?',\n",
       "             dtype=object),\n",
       " 'param_max_depth': masked_array(data=[3, 4, 4, 5, 4],\n",
       "              mask=[False, False, False, False, False],\n",
       "        fill_value='?',\n",
       "             dtype=object),\n",
       " 'param_gamma': masked_array(data=[1.5, 1, 2, 1.5, 2],\n",
       "              mask=[False, False, False, False, False],\n",
       "        fill_value='?',\n",
       "             dtype=object),\n",
       " 'param_colsample_bytree': masked_array(data=[0.8, 0.6, 0.6, 1.0, 1.0],\n",
       "              mask=[False, False, False, False, False],\n",
       "        fill_value='?',\n",
       "             dtype=object),\n",
       " 'params': [{'subsample': 1.0,\n",
       "   'min_child_weight': 5,\n",
       "   'max_depth': 3,\n",
       "   'gamma': 1.5,\n",
       "   'colsample_bytree': 0.8},\n",
       "  {'subsample': 0.8,\n",
       "   'min_child_weight': 10,\n",
       "   'max_depth': 4,\n",
       "   'gamma': 1,\n",
       "   'colsample_bytree': 0.6},\n",
       "  {'subsample': 1.0,\n",
       "   'min_child_weight': 10,\n",
       "   'max_depth': 4,\n",
       "   'gamma': 2,\n",
       "   'colsample_bytree': 0.6},\n",
       "  {'subsample': 0.8,\n",
       "   'min_child_weight': 10,\n",
       "   'max_depth': 5,\n",
       "   'gamma': 1.5,\n",
       "   'colsample_bytree': 1.0},\n",
       "  {'subsample': 0.6,\n",
       "   'min_child_weight': 1,\n",
       "   'max_depth': 4,\n",
       "   'gamma': 2,\n",
       "   'colsample_bytree': 1.0}],\n",
       " 'split0_test_score': array([0.9999333 , 0.98737062, 0.99996566, 0.99997276, 0.99997107]),\n",
       " 'split1_test_score': array([0.99994643, 0.98793155, 0.99997882, 0.99997024, 0.99996746]),\n",
       " 'split2_test_score': array([0.99997508, 0.98722734, 0.99998836, 0.9999946 , 0.99999639]),\n",
       " 'split3_test_score': array([0.99997668, 0.99678392, 0.99800517, 0.99999171, 0.99999771]),\n",
       " 'split4_test_score': array([0.99994296, 0.98729629, 0.99996934, 0.99997678, 0.99999008]),\n",
       " 'mean_test_score': array([0.99995489, 0.98932194, 0.99958147, 0.99998122, 0.99998454]),\n",
       " 'std_test_score': array([1.76774648e-05, 3.73931851e-03, 7.88189833e-04, 1.00088156e-05,\n",
       "        1.27885718e-05]),\n",
       " 'rank_test_score': array([3, 5, 4, 2, 1])}"
      ]
     },
     "execution_count": 19,
     "metadata": {},
     "output_type": "execute_result"
    }
   ],
   "source": [
    "random_search.cv_results_"
   ]
  },
  {
   "cell_type": "code",
   "execution_count": 20,
   "metadata": {},
   "outputs": [],
   "source": [
    "random_search.cv_results_\n",
    "results = pd.DataFrame(random_search.cv_results_)\n",
    "results.to_csv('xgb-random-grid-search-results-01.csv', index=False)"
   ]
  },
  {
   "cell_type": "code",
   "execution_count": 21,
   "metadata": {},
   "outputs": [],
   "source": [
    "random_search_prediction = random_search.predict(X_test)"
   ]
  },
  {
   "cell_type": "code",
   "execution_count": 22,
   "metadata": {},
   "outputs": [
    {
     "name": "stdout",
     "output_type": "stream",
     "text": [
      "Classification Report for Extreme Gradient Boosting \n",
      "\n",
      "\n",
      "               precision    recall  f1-score   support\n",
      "\n",
      "           0       1.00      1.00      1.00     56864\n",
      "           1       0.67      0.89      0.77        98\n",
      "\n",
      "    accuracy                           1.00     56962\n",
      "   macro avg       0.84      0.94      0.88     56962\n",
      "weighted avg       1.00      1.00      1.00     56962\n",
      "\n"
     ]
    }
   ],
   "source": [
    "print(\"Classification Report for Extreme Gradient Boosting \\n\\n\\n\",classification_report(y_test,random_search_prediction))"
   ]
  },
  {
   "cell_type": "code",
   "execution_count": 23,
   "metadata": {},
   "outputs": [
    {
     "name": "stdout",
     "output_type": "stream",
     "text": [
      "Confusion Matrix for Extreme Gradient Boosting \n",
      " [[56822    42]\n",
      " [   11    87]]\n"
     ]
    }
   ],
   "source": [
    "print(\"Confusion Matrix for Extreme Gradient Boosting \\n\",confusion_matrix(y_test,random_search_prediction))"
   ]
  },
  {
   "cell_type": "markdown",
   "metadata": {},
   "source": [
    "The model performs better than the previous model and can be futher optimized around the best parameters from randomized search"
   ]
  },
  {
   "cell_type": "code",
   "execution_count": 24,
   "metadata": {},
   "outputs": [
    {
     "data": {
      "text/plain": [
       "{'subsample': 0.6,\n",
       " 'min_child_weight': 1,\n",
       " 'max_depth': 4,\n",
       " 'gamma': 2,\n",
       " 'colsample_bytree': 1.0}"
      ]
     },
     "execution_count": 24,
     "metadata": {},
     "output_type": "execute_result"
    }
   ],
   "source": [
    "random_search.best_params_"
   ]
  },
  {
   "cell_type": "code",
   "execution_count": 25,
   "metadata": {},
   "outputs": [],
   "source": [
    "params = {\n",
    "        'min_child_weight': [8, 10],\n",
    "#        'gamma': [1.5, 2, 2.5],\n",
    "#        'subsample': [0.8, 1.0],\n",
    "        'colsample_bytree': [0.6, 0.7],\n",
    "        'max_depth': [3, 4, 5]\n",
    "        }\n",
    "\n",
    "xgb_grid1 = XGBClassifier(n_estimators=100,gamm=2,subsample=1.0, verbosity=3,n_jobs=-1,random_state=42)\n",
    "grid_search = GridSearchCV(xgb_grid1, param_grid=params,cv=3, scoring='roc_auc', n_jobs=-1, verbose=1, return_train_score=True)\n",
    "\n"
   ]
  },
  {
   "cell_type": "code",
   "execution_count": 26,
   "metadata": {},
   "outputs": [
    {
     "name": "stdout",
     "output_type": "stream",
     "text": [
      "Fitting 3 folds for each of 12 candidates, totalling 36 fits\n"
     ]
    },
    {
     "name": "stderr",
     "output_type": "stream",
     "text": [
      "[Parallel(n_jobs=-1)]: Using backend LokyBackend with 8 concurrent workers.\n",
      "[Parallel(n_jobs=-1)]: Done  36 out of  36 | elapsed:  1.9min finished\n"
     ]
    },
    {
     "name": "stdout",
     "output_type": "stream",
     "text": [
      "[09:09:42] WARNING: C:\\Users\\Administrator\\workspace\\xgboost-win64_release_1.2.0\\src\\learner.cc:516: \n",
      "Parameters: { gamm } might not be used.\n",
      "\n",
      "  This may not be accurate due to some parameters are only used in language bindings but\n",
      "  passed down to XGBoost core.  Or some parameters are not used but slip through this\n",
      "  verification. Please open an issue if you find above cases.\n",
      "\n",
      "\n",
      "[09:09:42] DEBUG: C:\\Users\\Administrator\\workspace\\xgboost-win64_release_1.2.0\\src\\gbm\\gbtree.cc:147: Using tree method: 2\n",
      "[09:09:42] INFO: C:\\Users\\Administrator\\workspace\\xgboost-win64_release_1.2.0\\src\\tree\\updater_prune.cc:101: tree pruning end, 14 extra nodes, 0 pruned nodes, max_depth=4\n",
      "[0]\tvalidation_0-error:0.00083\n",
      "Will train until validation_0-error hasn't improved in 10 rounds.\n",
      "[09:09:42] INFO: C:\\Users\\Administrator\\workspace\\xgboost-win64_release_1.2.0\\src\\tree\\updater_prune.cc:101: tree pruning end, 12 extra nodes, 0 pruned nodes, max_depth=4\n",
      "[1]\tvalidation_0-error:0.00072\n",
      "[09:09:42] INFO: C:\\Users\\Administrator\\workspace\\xgboost-win64_release_1.2.0\\src\\tree\\updater_prune.cc:101: tree pruning end, 12 extra nodes, 0 pruned nodes, max_depth=4\n",
      "[2]\tvalidation_0-error:0.00083\n",
      "[09:09:42] INFO: C:\\Users\\Administrator\\workspace\\xgboost-win64_release_1.2.0\\src\\tree\\updater_prune.cc:101: tree pruning end, 12 extra nodes, 0 pruned nodes, max_depth=4\n",
      "[3]\tvalidation_0-error:0.00072\n",
      "[09:09:43] INFO: C:\\Users\\Administrator\\workspace\\xgboost-win64_release_1.2.0\\src\\tree\\updater_prune.cc:101: tree pruning end, 16 extra nodes, 0 pruned nodes, max_depth=4\n",
      "[4]\tvalidation_0-error:0.00072\n",
      "[09:09:43] INFO: C:\\Users\\Administrator\\workspace\\xgboost-win64_release_1.2.0\\src\\tree\\updater_prune.cc:101: tree pruning end, 12 extra nodes, 0 pruned nodes, max_depth=4\n",
      "[5]\tvalidation_0-error:0.00070\n",
      "[09:09:43] INFO: C:\\Users\\Administrator\\workspace\\xgboost-win64_release_1.2.0\\src\\tree\\updater_prune.cc:101: tree pruning end, 14 extra nodes, 0 pruned nodes, max_depth=4\n",
      "[6]\tvalidation_0-error:0.00070\n",
      "[09:09:43] INFO: C:\\Users\\Administrator\\workspace\\xgboost-win64_release_1.2.0\\src\\tree\\updater_prune.cc:101: tree pruning end, 14 extra nodes, 0 pruned nodes, max_depth=4\n",
      "[7]\tvalidation_0-error:0.00077\n",
      "[09:09:43] INFO: C:\\Users\\Administrator\\workspace\\xgboost-win64_release_1.2.0\\src\\tree\\updater_prune.cc:101: tree pruning end, 16 extra nodes, 0 pruned nodes, max_depth=4\n",
      "[8]\tvalidation_0-error:0.00072\n",
      "[09:09:43] INFO: C:\\Users\\Administrator\\workspace\\xgboost-win64_release_1.2.0\\src\\tree\\updater_prune.cc:101: tree pruning end, 16 extra nodes, 0 pruned nodes, max_depth=4\n",
      "[9]\tvalidation_0-error:0.00072\n",
      "[09:09:43] INFO: C:\\Users\\Administrator\\workspace\\xgboost-win64_release_1.2.0\\src\\tree\\updater_prune.cc:101: tree pruning end, 16 extra nodes, 0 pruned nodes, max_depth=4\n",
      "[10]\tvalidation_0-error:0.00064\n",
      "[09:09:44] INFO: C:\\Users\\Administrator\\workspace\\xgboost-win64_release_1.2.0\\src\\tree\\updater_prune.cc:101: tree pruning end, 16 extra nodes, 0 pruned nodes, max_depth=4\n",
      "[11]\tvalidation_0-error:0.00061\n",
      "[09:09:44] INFO: C:\\Users\\Administrator\\workspace\\xgboost-win64_release_1.2.0\\src\\tree\\updater_prune.cc:101: tree pruning end, 18 extra nodes, 0 pruned nodes, max_depth=4\n",
      "[12]\tvalidation_0-error:0.00061\n",
      "[09:09:44] INFO: C:\\Users\\Administrator\\workspace\\xgboost-win64_release_1.2.0\\src\\tree\\updater_prune.cc:101: tree pruning end, 12 extra nodes, 0 pruned nodes, max_depth=4\n",
      "[13]\tvalidation_0-error:0.00064\n",
      "[09:09:44] INFO: C:\\Users\\Administrator\\workspace\\xgboost-win64_release_1.2.0\\src\\tree\\updater_prune.cc:101: tree pruning end, 16 extra nodes, 0 pruned nodes, max_depth=4\n",
      "[14]\tvalidation_0-error:0.00055\n",
      "[09:09:44] INFO: C:\\Users\\Administrator\\workspace\\xgboost-win64_release_1.2.0\\src\\tree\\updater_prune.cc:101: tree pruning end, 14 extra nodes, 0 pruned nodes, max_depth=4\n",
      "[15]\tvalidation_0-error:0.00053\n",
      "[09:09:44] INFO: C:\\Users\\Administrator\\workspace\\xgboost-win64_release_1.2.0\\src\\tree\\updater_prune.cc:101: tree pruning end, 16 extra nodes, 0 pruned nodes, max_depth=4\n",
      "[16]\tvalidation_0-error:0.00051\n",
      "[09:09:44] INFO: C:\\Users\\Administrator\\workspace\\xgboost-win64_release_1.2.0\\src\\tree\\updater_prune.cc:101: tree pruning end, 16 extra nodes, 0 pruned nodes, max_depth=4\n",
      "[17]\tvalidation_0-error:0.00051\n",
      "[09:09:45] INFO: C:\\Users\\Administrator\\workspace\\xgboost-win64_release_1.2.0\\src\\tree\\updater_prune.cc:101: tree pruning end, 14 extra nodes, 0 pruned nodes, max_depth=4\n",
      "[18]\tvalidation_0-error:0.00051\n",
      "[09:09:45] INFO: C:\\Users\\Administrator\\workspace\\xgboost-win64_release_1.2.0\\src\\tree\\updater_prune.cc:101: tree pruning end, 14 extra nodes, 0 pruned nodes, max_depth=4\n",
      "[19]\tvalidation_0-error:0.00051\n",
      "[09:09:45] INFO: C:\\Users\\Administrator\\workspace\\xgboost-win64_release_1.2.0\\src\\tree\\updater_prune.cc:101: tree pruning end, 16 extra nodes, 0 pruned nodes, max_depth=4\n",
      "[20]\tvalidation_0-error:0.00051\n",
      "[09:09:45] INFO: C:\\Users\\Administrator\\workspace\\xgboost-win64_release_1.2.0\\src\\tree\\updater_prune.cc:101: tree pruning end, 18 extra nodes, 0 pruned nodes, max_depth=4\n",
      "[21]\tvalidation_0-error:0.00051\n",
      "[09:09:45] INFO: C:\\Users\\Administrator\\workspace\\xgboost-win64_release_1.2.0\\src\\tree\\updater_prune.cc:101: tree pruning end, 16 extra nodes, 0 pruned nodes, max_depth=4\n",
      "[22]\tvalidation_0-error:0.00053\n",
      "[09:09:45] INFO: C:\\Users\\Administrator\\workspace\\xgboost-win64_release_1.2.0\\src\\tree\\updater_prune.cc:101: tree pruning end, 14 extra nodes, 0 pruned nodes, max_depth=4\n",
      "[23]\tvalidation_0-error:0.00053\n",
      "[09:09:45] INFO: C:\\Users\\Administrator\\workspace\\xgboost-win64_release_1.2.0\\src\\tree\\updater_prune.cc:101: tree pruning end, 14 extra nodes, 0 pruned nodes, max_depth=4\n",
      "[24]\tvalidation_0-error:0.00053\n",
      "[09:09:45] INFO: C:\\Users\\Administrator\\workspace\\xgboost-win64_release_1.2.0\\src\\tree\\updater_prune.cc:101: tree pruning end, 12 extra nodes, 0 pruned nodes, max_depth=4\n",
      "[25]\tvalidation_0-error:0.00053\n",
      "[09:09:46] INFO: C:\\Users\\Administrator\\workspace\\xgboost-win64_release_1.2.0\\src\\tree\\updater_prune.cc:101: tree pruning end, 12 extra nodes, 0 pruned nodes, max_depth=4\n",
      "[26]\tvalidation_0-error:0.00055\n",
      "Stopping. Best iteration:\n",
      "[16]\tvalidation_0-error:0.00051\n",
      "\n",
      "[09:09:46] ======== Monitor: Learner ========\n",
      "[09:09:46] Configure: 0.003078s, 1 calls @ 3078us\n",
      "\n",
      "[09:09:46] EvalOneIter: 0.07648s, 27 calls @ 76480us\n",
      "\n",
      "[09:09:46] GetGradient: 0.097417s, 27 calls @ 97417us\n",
      "\n",
      "[09:09:46] PredictRaw: 0.264426s, 27 calls @ 264426us\n",
      "\n",
      "[09:09:46] UpdateOneIter: 3.63911s, 27 calls @ 3639106us\n",
      "\n",
      "[09:09:46] ======== Monitor: GBTree ========\n",
      "[09:09:46] BoostNewTrees: 3.27311s, 27 calls @ 3273113us\n",
      "\n",
      "[09:09:46] CommitModel: 3.9e-05s, 27 calls @ 39us\n",
      "\n",
      "[09:09:46] ======== Monitor: TreePruner ========\n",
      "[09:09:46] PrunerUpdate: 0.020832s, 27 calls @ 20832us\n",
      "\n",
      "\n",
      " Time taken: 0 hours 2 minutes and 0.37 seconds.\n"
     ]
    }
   ],
   "source": [
    "start_time = timer(None)\n",
    "grid_search.fit(X_train_set,y_train_set,early_stopping_rounds=10,eval_set=[(X_val,y_val)])\n",
    "timer(start_time)"
   ]
  },
  {
   "cell_type": "code",
   "execution_count": 27,
   "metadata": {},
   "outputs": [
    {
     "data": {
      "text/plain": [
       "XGBClassifier(base_score=0.5, booster='gbtree', colsample_bylevel=1,\n",
       "              colsample_bynode=1, colsample_bytree=0.6, gamm=2, gamma=0,\n",
       "              gpu_id=-1, importance_type='gain', interaction_constraints='',\n",
       "              learning_rate=0.300000012, max_delta_step=0, max_depth=4,\n",
       "              min_child_weight=10, missing=nan, monotone_constraints='()',\n",
       "              n_estimators=100, n_jobs=-1, num_parallel_tree=1, random_state=42,\n",
       "              reg_alpha=0, reg_lambda=1, scale_pos_weight=1, subsample=1.0,\n",
       "              tree_method='exact', validate_parameters=1, verbosity=3)"
      ]
     },
     "execution_count": 27,
     "metadata": {},
     "output_type": "execute_result"
    }
   ],
   "source": [
    "grid_search.best_estimator_"
   ]
  },
  {
   "cell_type": "code",
   "execution_count": 28,
   "metadata": {},
   "outputs": [
    {
     "data": {
      "text/plain": [
       "{'colsample_bytree': 0.6, 'max_depth': 4, 'min_child_weight': 10}"
      ]
     },
     "execution_count": 28,
     "metadata": {},
     "output_type": "execute_result"
    }
   ],
   "source": [
    "grid_search.best_params_"
   ]
  },
  {
   "cell_type": "code",
   "execution_count": 29,
   "metadata": {},
   "outputs": [
    {
     "data": {
      "text/plain": [
       "{'subsample': 0.6,\n",
       " 'min_child_weight': 1,\n",
       " 'max_depth': 4,\n",
       " 'gamma': 2,\n",
       " 'colsample_bytree': 1.0}"
      ]
     },
     "execution_count": 29,
     "metadata": {},
     "output_type": "execute_result"
    }
   ],
   "source": [
    "random_search.best_params_"
   ]
  },
  {
   "cell_type": "code",
   "execution_count": 30,
   "metadata": {},
   "outputs": [
    {
     "data": {
      "text/plain": [
       "0.9809599285952381"
      ]
     },
     "execution_count": 30,
     "metadata": {},
     "output_type": "execute_result"
    }
   ],
   "source": [
    "grid_search.best_score_"
   ]
  },
  {
   "cell_type": "code",
   "execution_count": 31,
   "metadata": {},
   "outputs": [
    {
     "data": {
      "text/plain": [
       "0.9999845424001352"
      ]
     },
     "execution_count": 31,
     "metadata": {},
     "output_type": "execute_result"
    }
   ],
   "source": [
    "random_search.best_score_"
   ]
  },
  {
   "cell_type": "code",
   "execution_count": 32,
   "metadata": {},
   "outputs": [],
   "source": [
    "grid_search_prediction = grid_search.predict(X_test)"
   ]
  },
  {
   "cell_type": "code",
   "execution_count": 33,
   "metadata": {},
   "outputs": [
    {
     "name": "stdout",
     "output_type": "stream",
     "text": [
      "Classification Report for Extreme Gradient Boosting \n",
      "\n",
      "\n",
      "               precision    recall  f1-score   support\n",
      "\n",
      "           0       1.00      1.00      1.00     56864\n",
      "           1       0.93      0.82      0.87        98\n",
      "\n",
      "    accuracy                           1.00     56962\n",
      "   macro avg       0.96      0.91      0.93     56962\n",
      "weighted avg       1.00      1.00      1.00     56962\n",
      "\n",
      "Confusion Matrix for Extreme Gradient Boosting \n",
      " [[56858     6]\n",
      " [   18    80]]\n"
     ]
    }
   ],
   "source": [
    "print(\"Classification Report for Extreme Gradient Boosting \\n\\n\\n\",classification_report(y_test,grid_search_prediction))\n",
    "print(\"Confusion Matrix for Extreme Gradient Boosting \\n\",confusion_matrix(y_test,grid_search_prediction))"
   ]
  },
  {
   "cell_type": "code",
   "execution_count": 34,
   "metadata": {},
   "outputs": [
    {
     "name": "stdout",
     "output_type": "stream",
     "text": [
      "Classification Report for Extreme Gradient Boosting \n",
      "\n",
      "\n",
      "               precision    recall  f1-score   support\n",
      "\n",
      "           0       1.00      1.00      1.00     56864\n",
      "           1       0.67      0.89      0.77        98\n",
      "\n",
      "    accuracy                           1.00     56962\n",
      "   macro avg       0.84      0.94      0.88     56962\n",
      "weighted avg       1.00      1.00      1.00     56962\n",
      "\n",
      "Confusion Matrix for Extreme Gradient Boosting \n",
      " [[56822    42]\n",
      " [   11    87]]\n"
     ]
    }
   ],
   "source": [
    "print(\"Classification Report for Extreme Gradient Boosting \\n\\n\\n\",classification_report(y_test,random_search_prediction))\n",
    "print(\"Confusion Matrix for Extreme Gradient Boosting \\n\",confusion_matrix(y_test,random_search_prediction))"
   ]
  },
  {
   "cell_type": "markdown",
   "metadata": {},
   "source": [
    "Thus the model has slightly improved using the GridSearchCV it can be further improved by doing extensive gridsearch"
   ]
  },
  {
   "cell_type": "code",
   "execution_count": 46,
   "metadata": {},
   "outputs": [],
   "source": [
    "params = {\n",
    "        'min_child_weight': [6, 8, 9],\n",
    "        'gamma': [1, 2],\n",
    "        'subsample': [0.75, 0.8, 1.0],\n",
    "        'colsample_bytree': [0.5, 0.6, 0.7],\n",
    "        'max_depth': [4, 5, 7]\n",
    "        }\n",
    "\n",
    "xgb_grid1 = XGBClassifier(n_estimators=100,gamm=2,subsample=1.0, verbosity=3,n_jobs=-1,random_state=42)\n",
    "grid_search = GridSearchCV(xgb_grid1, param_grid=params,cv=3, scoring='roc_auc', n_jobs=-1, verbose=1, return_train_score=True)"
   ]
  },
  {
   "cell_type": "code",
   "execution_count": 47,
   "metadata": {
    "scrolled": true
   },
   "outputs": [
    {
     "name": "stdout",
     "output_type": "stream",
     "text": [
      "Fitting 3 folds for each of 162 candidates, totalling 486 fits\n"
     ]
    },
    {
     "name": "stderr",
     "output_type": "stream",
     "text": [
      "[Parallel(n_jobs=-1)]: Using backend LokyBackend with 8 concurrent workers.\n",
      "[Parallel(n_jobs=-1)]: Done  34 tasks      | elapsed: 10.2min\n",
      "[Parallel(n_jobs=-1)]: Done 184 tasks      | elapsed: 53.6min\n",
      "[Parallel(n_jobs=-1)]: Done 434 tasks      | elapsed: 161.5min\n",
      "[Parallel(n_jobs=-1)]: Done 486 out of 486 | elapsed: 191.0min finished\n"
     ]
    },
    {
     "name": "stdout",
     "output_type": "stream",
     "text": [
      "[13:18:19] WARNING: C:\\Users\\Administrator\\workspace\\xgboost-win64_release_1.2.0\\src\\learner.cc:516: \n",
      "Parameters: { gamm } might not be used.\n",
      "\n",
      "  This may not be accurate due to some parameters are only used in language bindings but\n",
      "  passed down to XGBoost core.  Or some parameters are not used but slip through this\n",
      "  verification. Please open an issue if you find above cases.\n",
      "\n",
      "\n",
      "[13:18:19] DEBUG: C:\\Users\\Administrator\\workspace\\xgboost-win64_release_1.2.0\\src\\gbm\\gbtree.cc:147: Using tree method: 2\n",
      "[13:18:20] INFO: C:\\Users\\Administrator\\workspace\\xgboost-win64_release_1.2.0\\src\\tree\\updater_prune.cc:101: tree pruning end, 30 extra nodes, 0 pruned nodes, max_depth=4\n",
      "[0]\tvalidation_0-error:0.02517\n",
      "Will train until validation_0-error hasn't improved in 10 rounds.\n",
      "[13:18:21] INFO: C:\\Users\\Administrator\\workspace\\xgboost-win64_release_1.2.0\\src\\tree\\updater_prune.cc:101: tree pruning end, 30 extra nodes, 0 pruned nodes, max_depth=4\n",
      "[1]\tvalidation_0-error:0.01053\n",
      "[13:18:21] INFO: C:\\Users\\Administrator\\workspace\\xgboost-win64_release_1.2.0\\src\\tree\\updater_prune.cc:101: tree pruning end, 28 extra nodes, 0 pruned nodes, max_depth=4\n",
      "[2]\tvalidation_0-error:0.01066\n",
      "[13:18:21] INFO: C:\\Users\\Administrator\\workspace\\xgboost-win64_release_1.2.0\\src\\tree\\updater_prune.cc:101: tree pruning end, 30 extra nodes, 0 pruned nodes, max_depth=4\n",
      "[3]\tvalidation_0-error:0.01080\n",
      "[13:18:22] INFO: C:\\Users\\Administrator\\workspace\\xgboost-win64_release_1.2.0\\src\\tree\\updater_prune.cc:101: tree pruning end, 30 extra nodes, 0 pruned nodes, max_depth=4\n",
      "[4]\tvalidation_0-error:0.00898\n",
      "[13:18:22] INFO: C:\\Users\\Administrator\\workspace\\xgboost-win64_release_1.2.0\\src\\tree\\updater_prune.cc:101: tree pruning end, 30 extra nodes, 0 pruned nodes, max_depth=4\n",
      "[5]\tvalidation_0-error:0.00797\n",
      "[13:18:22] INFO: C:\\Users\\Administrator\\workspace\\xgboost-win64_release_1.2.0\\src\\tree\\updater_prune.cc:101: tree pruning end, 28 extra nodes, 0 pruned nodes, max_depth=4\n",
      "[6]\tvalidation_0-error:0.00729\n",
      "[13:18:22] INFO: C:\\Users\\Administrator\\workspace\\xgboost-win64_release_1.2.0\\src\\tree\\updater_prune.cc:101: tree pruning end, 30 extra nodes, 0 pruned nodes, max_depth=4\n",
      "[7]\tvalidation_0-error:0.00832\n",
      "[13:18:23] INFO: C:\\Users\\Administrator\\workspace\\xgboost-win64_release_1.2.0\\src\\tree\\updater_prune.cc:101: tree pruning end, 30 extra nodes, 0 pruned nodes, max_depth=4\n",
      "[8]\tvalidation_0-error:0.00823\n",
      "[13:18:23] INFO: C:\\Users\\Administrator\\workspace\\xgboost-win64_release_1.2.0\\src\\tree\\updater_prune.cc:101: tree pruning end, 30 extra nodes, 0 pruned nodes, max_depth=4\n",
      "[9]\tvalidation_0-error:0.00948\n",
      "[13:18:23] INFO: C:\\Users\\Administrator\\workspace\\xgboost-win64_release_1.2.0\\src\\tree\\updater_prune.cc:101: tree pruning end, 28 extra nodes, 0 pruned nodes, max_depth=4\n",
      "[10]\tvalidation_0-error:0.00988\n",
      "[13:18:24] INFO: C:\\Users\\Administrator\\workspace\\xgboost-win64_release_1.2.0\\src\\tree\\updater_prune.cc:101: tree pruning end, 30 extra nodes, 0 pruned nodes, max_depth=4\n",
      "[11]\tvalidation_0-error:0.00955\n",
      "[13:18:24] INFO: C:\\Users\\Administrator\\workspace\\xgboost-win64_release_1.2.0\\src\\tree\\updater_prune.cc:101: tree pruning end, 28 extra nodes, 0 pruned nodes, max_depth=4\n",
      "[12]\tvalidation_0-error:0.00928\n",
      "[13:18:24] INFO: C:\\Users\\Administrator\\workspace\\xgboost-win64_release_1.2.0\\src\\tree\\updater_prune.cc:101: tree pruning end, 30 extra nodes, 0 pruned nodes, max_depth=4\n",
      "[13]\tvalidation_0-error:0.00851\n",
      "[13:18:25] INFO: C:\\Users\\Administrator\\workspace\\xgboost-win64_release_1.2.0\\src\\tree\\updater_prune.cc:101: tree pruning end, 24 extra nodes, 2 pruned nodes, max_depth=4\n",
      "[14]\tvalidation_0-error:0.00830\n",
      "[13:18:25] INFO: C:\\Users\\Administrator\\workspace\\xgboost-win64_release_1.2.0\\src\\tree\\updater_prune.cc:101: tree pruning end, 22 extra nodes, 2 pruned nodes, max_depth=4\n",
      "[15]\tvalidation_0-error:0.00768\n",
      "[13:18:25] INFO: C:\\Users\\Administrator\\workspace\\xgboost-win64_release_1.2.0\\src\\tree\\updater_prune.cc:101: tree pruning end, 30 extra nodes, 0 pruned nodes, max_depth=4\n",
      "[16]\tvalidation_0-error:0.00674\n",
      "[13:18:26] INFO: C:\\Users\\Administrator\\workspace\\xgboost-win64_release_1.2.0\\src\\tree\\updater_prune.cc:101: tree pruning end, 28 extra nodes, 0 pruned nodes, max_depth=4\n",
      "[17]\tvalidation_0-error:0.00707\n",
      "[13:18:26] INFO: C:\\Users\\Administrator\\workspace\\xgboost-win64_release_1.2.0\\src\\tree\\updater_prune.cc:101: tree pruning end, 28 extra nodes, 0 pruned nodes, max_depth=4\n",
      "[18]\tvalidation_0-error:0.00680\n",
      "[13:18:27] INFO: C:\\Users\\Administrator\\workspace\\xgboost-win64_release_1.2.0\\src\\tree\\updater_prune.cc:101: tree pruning end, 22 extra nodes, 2 pruned nodes, max_depth=4\n",
      "[19]\tvalidation_0-error:0.00643\n",
      "[13:18:27] INFO: C:\\Users\\Administrator\\workspace\\xgboost-win64_release_1.2.0\\src\\tree\\updater_prune.cc:101: tree pruning end, 18 extra nodes, 2 pruned nodes, max_depth=4\n",
      "[20]\tvalidation_0-error:0.00632\n",
      "[13:18:27] INFO: C:\\Users\\Administrator\\workspace\\xgboost-win64_release_1.2.0\\src\\tree\\updater_prune.cc:101: tree pruning end, 24 extra nodes, 2 pruned nodes, max_depth=4\n",
      "[21]\tvalidation_0-error:0.00630\n",
      "[13:18:28] INFO: C:\\Users\\Administrator\\workspace\\xgboost-win64_release_1.2.0\\src\\tree\\updater_prune.cc:101: tree pruning end, 28 extra nodes, 0 pruned nodes, max_depth=4\n",
      "[22]\tvalidation_0-error:0.00595\n",
      "[13:18:28] INFO: C:\\Users\\Administrator\\workspace\\xgboost-win64_release_1.2.0\\src\\tree\\updater_prune.cc:101: tree pruning end, 30 extra nodes, 0 pruned nodes, max_depth=4\n",
      "[23]\tvalidation_0-error:0.00542\n",
      "[13:18:28] INFO: C:\\Users\\Administrator\\workspace\\xgboost-win64_release_1.2.0\\src\\tree\\updater_prune.cc:101: tree pruning end, 28 extra nodes, 0 pruned nodes, max_depth=4\n",
      "[24]\tvalidation_0-error:0.00544\n",
      "[13:18:29] INFO: C:\\Users\\Administrator\\workspace\\xgboost-win64_release_1.2.0\\src\\tree\\updater_prune.cc:101: tree pruning end, 30 extra nodes, 0 pruned nodes, max_depth=4\n",
      "[25]\tvalidation_0-error:0.00492\n",
      "[13:18:29] INFO: C:\\Users\\Administrator\\workspace\\xgboost-win64_release_1.2.0\\src\\tree\\updater_prune.cc:101: tree pruning end, 22 extra nodes, 4 pruned nodes, max_depth=4\n",
      "[26]\tvalidation_0-error:0.00461\n",
      "[13:18:29] INFO: C:\\Users\\Administrator\\workspace\\xgboost-win64_release_1.2.0\\src\\tree\\updater_prune.cc:101: tree pruning end, 18 extra nodes, 4 pruned nodes, max_depth=4\n",
      "[27]\tvalidation_0-error:0.00419\n",
      "[13:18:30] INFO: C:\\Users\\Administrator\\workspace\\xgboost-win64_release_1.2.0\\src\\tree\\updater_prune.cc:101: tree pruning end, 28 extra nodes, 0 pruned nodes, max_depth=4\n",
      "[28]\tvalidation_0-error:0.00408\n",
      "[13:18:30] INFO: C:\\Users\\Administrator\\workspace\\xgboost-win64_release_1.2.0\\src\\tree\\updater_prune.cc:101: tree pruning end, 22 extra nodes, 0 pruned nodes, max_depth=4\n",
      "[29]\tvalidation_0-error:0.00391\n",
      "[13:18:30] INFO: C:\\Users\\Administrator\\workspace\\xgboost-win64_release_1.2.0\\src\\tree\\updater_prune.cc:101: tree pruning end, 22 extra nodes, 4 pruned nodes, max_depth=4\n",
      "[30]\tvalidation_0-error:0.00360\n",
      "[13:18:31] INFO: C:\\Users\\Administrator\\workspace\\xgboost-win64_release_1.2.0\\src\\tree\\updater_prune.cc:101: tree pruning end, 28 extra nodes, 2 pruned nodes, max_depth=4\n",
      "[31]\tvalidation_0-error:0.00356\n",
      "[13:18:31] INFO: C:\\Users\\Administrator\\workspace\\xgboost-win64_release_1.2.0\\src\\tree\\updater_prune.cc:101: tree pruning end, 26 extra nodes, 2 pruned nodes, max_depth=4\n",
      "[32]\tvalidation_0-error:0.00353\n",
      "[13:18:31] INFO: C:\\Users\\Administrator\\workspace\\xgboost-win64_release_1.2.0\\src\\tree\\updater_prune.cc:101: tree pruning end, 30 extra nodes, 0 pruned nodes, max_depth=4\n",
      "[33]\tvalidation_0-error:0.00329\n",
      "[13:18:32] INFO: C:\\Users\\Administrator\\workspace\\xgboost-win64_release_1.2.0\\src\\tree\\updater_prune.cc:101: tree pruning end, 30 extra nodes, 0 pruned nodes, max_depth=4\n",
      "[34]\tvalidation_0-error:0.00334\n",
      "[13:18:32] INFO: C:\\Users\\Administrator\\workspace\\xgboost-win64_release_1.2.0\\src\\tree\\updater_prune.cc:101: tree pruning end, 22 extra nodes, 2 pruned nodes, max_depth=4\n",
      "[35]\tvalidation_0-error:0.00331\n",
      "[13:18:32] INFO: C:\\Users\\Administrator\\workspace\\xgboost-win64_release_1.2.0\\src\\tree\\updater_prune.cc:101: tree pruning end, 22 extra nodes, 2 pruned nodes, max_depth=4\n",
      "[36]\tvalidation_0-error:0.00303\n",
      "[13:18:33] INFO: C:\\Users\\Administrator\\workspace\\xgboost-win64_release_1.2.0\\src\\tree\\updater_prune.cc:101: tree pruning end, 16 extra nodes, 0 pruned nodes, max_depth=4\n",
      "[37]\tvalidation_0-error:0.00305\n"
     ]
    },
    {
     "name": "stdout",
     "output_type": "stream",
     "text": [
      "[13:18:33] INFO: C:\\Users\\Administrator\\workspace\\xgboost-win64_release_1.2.0\\src\\tree\\updater_prune.cc:101: tree pruning end, 16 extra nodes, 0 pruned nodes, max_depth=4\n",
      "[38]\tvalidation_0-error:0.00309\n",
      "[13:18:33] INFO: C:\\Users\\Administrator\\workspace\\xgboost-win64_release_1.2.0\\src\\tree\\updater_prune.cc:101: tree pruning end, 24 extra nodes, 0 pruned nodes, max_depth=4\n",
      "[39]\tvalidation_0-error:0.00292\n",
      "[13:18:34] INFO: C:\\Users\\Administrator\\workspace\\xgboost-win64_release_1.2.0\\src\\tree\\updater_prune.cc:101: tree pruning end, 30 extra nodes, 0 pruned nodes, max_depth=4\n",
      "[40]\tvalidation_0-error:0.00255\n",
      "[13:18:34] INFO: C:\\Users\\Administrator\\workspace\\xgboost-win64_release_1.2.0\\src\\tree\\updater_prune.cc:101: tree pruning end, 26 extra nodes, 2 pruned nodes, max_depth=4\n",
      "[41]\tvalidation_0-error:0.00252\n",
      "[13:18:34] INFO: C:\\Users\\Administrator\\workspace\\xgboost-win64_release_1.2.0\\src\\tree\\updater_prune.cc:101: tree pruning end, 30 extra nodes, 0 pruned nodes, max_depth=4\n",
      "[42]\tvalidation_0-error:0.00244\n",
      "[13:18:35] INFO: C:\\Users\\Administrator\\workspace\\xgboost-win64_release_1.2.0\\src\\tree\\updater_prune.cc:101: tree pruning end, 30 extra nodes, 0 pruned nodes, max_depth=4\n",
      "[43]\tvalidation_0-error:0.00233\n",
      "[13:18:35] INFO: C:\\Users\\Administrator\\workspace\\xgboost-win64_release_1.2.0\\src\\tree\\updater_prune.cc:101: tree pruning end, 18 extra nodes, 0 pruned nodes, max_depth=4\n",
      "[44]\tvalidation_0-error:0.00233\n",
      "[13:18:35] INFO: C:\\Users\\Administrator\\workspace\\xgboost-win64_release_1.2.0\\src\\tree\\updater_prune.cc:101: tree pruning end, 18 extra nodes, 2 pruned nodes, max_depth=4\n",
      "[45]\tvalidation_0-error:0.00222\n",
      "[13:18:36] INFO: C:\\Users\\Administrator\\workspace\\xgboost-win64_release_1.2.0\\src\\tree\\updater_prune.cc:101: tree pruning end, 30 extra nodes, 0 pruned nodes, max_depth=4\n",
      "[46]\tvalidation_0-error:0.00217\n",
      "[13:18:36] INFO: C:\\Users\\Administrator\\workspace\\xgboost-win64_release_1.2.0\\src\\tree\\updater_prune.cc:101: tree pruning end, 26 extra nodes, 0 pruned nodes, max_depth=4\n",
      "[47]\tvalidation_0-error:0.00219\n",
      "[13:18:36] INFO: C:\\Users\\Administrator\\workspace\\xgboost-win64_release_1.2.0\\src\\tree\\updater_prune.cc:101: tree pruning end, 30 extra nodes, 0 pruned nodes, max_depth=4\n",
      "[48]\tvalidation_0-error:0.00211\n",
      "[13:18:37] INFO: C:\\Users\\Administrator\\workspace\\xgboost-win64_release_1.2.0\\src\\tree\\updater_prune.cc:101: tree pruning end, 16 extra nodes, 2 pruned nodes, max_depth=4\n",
      "[49]\tvalidation_0-error:0.00206\n",
      "[13:18:37] INFO: C:\\Users\\Administrator\\workspace\\xgboost-win64_release_1.2.0\\src\\tree\\updater_prune.cc:101: tree pruning end, 18 extra nodes, 4 pruned nodes, max_depth=4\n",
      "[50]\tvalidation_0-error:0.00198\n",
      "[13:18:37] INFO: C:\\Users\\Administrator\\workspace\\xgboost-win64_release_1.2.0\\src\\tree\\updater_prune.cc:101: tree pruning end, 20 extra nodes, 2 pruned nodes, max_depth=4\n",
      "[51]\tvalidation_0-error:0.00178\n",
      "[13:18:38] INFO: C:\\Users\\Administrator\\workspace\\xgboost-win64_release_1.2.0\\src\\tree\\updater_prune.cc:101: tree pruning end, 26 extra nodes, 0 pruned nodes, max_depth=4\n",
      "[52]\tvalidation_0-error:0.00184\n",
      "[13:18:38] INFO: C:\\Users\\Administrator\\workspace\\xgboost-win64_release_1.2.0\\src\\tree\\updater_prune.cc:101: tree pruning end, 22 extra nodes, 2 pruned nodes, max_depth=4\n",
      "[53]\tvalidation_0-error:0.00171\n",
      "[13:18:38] INFO: C:\\Users\\Administrator\\workspace\\xgboost-win64_release_1.2.0\\src\\tree\\updater_prune.cc:101: tree pruning end, 20 extra nodes, 2 pruned nodes, max_depth=4\n",
      "[54]\tvalidation_0-error:0.00169\n",
      "[13:18:39] INFO: C:\\Users\\Administrator\\workspace\\xgboost-win64_release_1.2.0\\src\\tree\\updater_prune.cc:101: tree pruning end, 28 extra nodes, 0 pruned nodes, max_depth=4\n",
      "[55]\tvalidation_0-error:0.00173\n",
      "[13:18:39] INFO: C:\\Users\\Administrator\\workspace\\xgboost-win64_release_1.2.0\\src\\tree\\updater_prune.cc:101: tree pruning end, 18 extra nodes, 0 pruned nodes, max_depth=4\n",
      "[56]\tvalidation_0-error:0.00169\n",
      "[13:18:39] INFO: C:\\Users\\Administrator\\workspace\\xgboost-win64_release_1.2.0\\src\\tree\\updater_prune.cc:101: tree pruning end, 16 extra nodes, 0 pruned nodes, max_depth=4\n",
      "[57]\tvalidation_0-error:0.00162\n",
      "[13:18:40] INFO: C:\\Users\\Administrator\\workspace\\xgboost-win64_release_1.2.0\\src\\tree\\updater_prune.cc:101: tree pruning end, 22 extra nodes, 0 pruned nodes, max_depth=4\n",
      "[58]\tvalidation_0-error:0.00160\n",
      "[13:18:40] INFO: C:\\Users\\Administrator\\workspace\\xgboost-win64_release_1.2.0\\src\\tree\\updater_prune.cc:101: tree pruning end, 30 extra nodes, 0 pruned nodes, max_depth=4\n",
      "[59]\tvalidation_0-error:0.00154\n",
      "[13:18:40] INFO: C:\\Users\\Administrator\\workspace\\xgboost-win64_release_1.2.0\\src\\tree\\updater_prune.cc:101: tree pruning end, 18 extra nodes, 2 pruned nodes, max_depth=4\n",
      "[60]\tvalidation_0-error:0.00154\n",
      "[13:18:41] INFO: C:\\Users\\Administrator\\workspace\\xgboost-win64_release_1.2.0\\src\\tree\\updater_prune.cc:101: tree pruning end, 26 extra nodes, 0 pruned nodes, max_depth=4\n",
      "[61]\tvalidation_0-error:0.00156\n",
      "[13:18:41] INFO: C:\\Users\\Administrator\\workspace\\xgboost-win64_release_1.2.0\\src\\tree\\updater_prune.cc:101: tree pruning end, 24 extra nodes, 0 pruned nodes, max_depth=4\n",
      "[62]\tvalidation_0-error:0.00151\n",
      "[13:18:41] INFO: C:\\Users\\Administrator\\workspace\\xgboost-win64_release_1.2.0\\src\\tree\\updater_prune.cc:101: tree pruning end, 16 extra nodes, 2 pruned nodes, max_depth=4\n",
      "[63]\tvalidation_0-error:0.00143\n",
      "[13:18:42] INFO: C:\\Users\\Administrator\\workspace\\xgboost-win64_release_1.2.0\\src\\tree\\updater_prune.cc:101: tree pruning end, 22 extra nodes, 0 pruned nodes, max_depth=4\n",
      "[64]\tvalidation_0-error:0.00143\n",
      "[13:18:42] INFO: C:\\Users\\Administrator\\workspace\\xgboost-win64_release_1.2.0\\src\\tree\\updater_prune.cc:101: tree pruning end, 16 extra nodes, 0 pruned nodes, max_depth=4\n",
      "[65]\tvalidation_0-error:0.00145\n",
      "[13:18:42] INFO: C:\\Users\\Administrator\\workspace\\xgboost-win64_release_1.2.0\\src\\tree\\updater_prune.cc:101: tree pruning end, 26 extra nodes, 2 pruned nodes, max_depth=4\n",
      "[66]\tvalidation_0-error:0.00145\n",
      "[13:18:43] INFO: C:\\Users\\Administrator\\workspace\\xgboost-win64_release_1.2.0\\src\\tree\\updater_prune.cc:101: tree pruning end, 30 extra nodes, 0 pruned nodes, max_depth=4\n",
      "[67]\tvalidation_0-error:0.00140\n",
      "[13:18:43] INFO: C:\\Users\\Administrator\\workspace\\xgboost-win64_release_1.2.0\\src\\tree\\updater_prune.cc:101: tree pruning end, 26 extra nodes, 0 pruned nodes, max_depth=4\n",
      "[68]\tvalidation_0-error:0.00140\n",
      "[13:18:43] INFO: C:\\Users\\Administrator\\workspace\\xgboost-win64_release_1.2.0\\src\\tree\\updater_prune.cc:101: tree pruning end, 20 extra nodes, 4 pruned nodes, max_depth=4\n",
      "[69]\tvalidation_0-error:0.00121\n",
      "[13:18:44] INFO: C:\\Users\\Administrator\\workspace\\xgboost-win64_release_1.2.0\\src\\tree\\updater_prune.cc:101: tree pruning end, 12 extra nodes, 0 pruned nodes, max_depth=4\n",
      "[70]\tvalidation_0-error:0.00127\n",
      "[13:18:44] INFO: C:\\Users\\Administrator\\workspace\\xgboost-win64_release_1.2.0\\src\\tree\\updater_prune.cc:101: tree pruning end, 30 extra nodes, 0 pruned nodes, max_depth=4\n",
      "[71]\tvalidation_0-error:0.00125\n",
      "[13:18:44] INFO: C:\\Users\\Administrator\\workspace\\xgboost-win64_release_1.2.0\\src\\tree\\updater_prune.cc:101: tree pruning end, 26 extra nodes, 2 pruned nodes, max_depth=4\n",
      "[72]\tvalidation_0-error:0.00129\n",
      "[13:18:45] INFO: C:\\Users\\Administrator\\workspace\\xgboost-win64_release_1.2.0\\src\\tree\\updater_prune.cc:101: tree pruning end, 26 extra nodes, 2 pruned nodes, max_depth=4\n",
      "[73]\tvalidation_0-error:0.00121\n",
      "[13:18:45] INFO: C:\\Users\\Administrator\\workspace\\xgboost-win64_release_1.2.0\\src\\tree\\updater_prune.cc:101: tree pruning end, 24 extra nodes, 2 pruned nodes, max_depth=4\n",
      "[74]\tvalidation_0-error:0.00114\n",
      "[13:18:45] INFO: C:\\Users\\Administrator\\workspace\\xgboost-win64_release_1.2.0\\src\\tree\\updater_prune.cc:101: tree pruning end, 14 extra nodes, 4 pruned nodes, max_depth=4\n",
      "[75]\tvalidation_0-error:0.00114\n",
      "[13:18:46] INFO: C:\\Users\\Administrator\\workspace\\xgboost-win64_release_1.2.0\\src\\tree\\updater_prune.cc:101: tree pruning end, 22 extra nodes, 2 pruned nodes, max_depth=4\n",
      "[76]\tvalidation_0-error:0.00110\n",
      "[13:18:46] INFO: C:\\Users\\Administrator\\workspace\\xgboost-win64_release_1.2.0\\src\\tree\\updater_prune.cc:101: tree pruning end, 16 extra nodes, 4 pruned nodes, max_depth=4\n",
      "[77]\tvalidation_0-error:0.00114\n",
      "[13:18:46] INFO: C:\\Users\\Administrator\\workspace\\xgboost-win64_release_1.2.0\\src\\tree\\updater_prune.cc:101: tree pruning end, 16 extra nodes, 0 pruned nodes, max_depth=4\n",
      "[78]\tvalidation_0-error:0.00108\n"
     ]
    },
    {
     "name": "stdout",
     "output_type": "stream",
     "text": [
      "[13:18:47] INFO: C:\\Users\\Administrator\\workspace\\xgboost-win64_release_1.2.0\\src\\tree\\updater_prune.cc:101: tree pruning end, 16 extra nodes, 2 pruned nodes, max_depth=4\n",
      "[79]\tvalidation_0-error:0.00108\n",
      "[13:18:47] INFO: C:\\Users\\Administrator\\workspace\\xgboost-win64_release_1.2.0\\src\\tree\\updater_prune.cc:101: tree pruning end, 26 extra nodes, 2 pruned nodes, max_depth=4\n",
      "[80]\tvalidation_0-error:0.00105\n",
      "[13:18:47] INFO: C:\\Users\\Administrator\\workspace\\xgboost-win64_release_1.2.0\\src\\tree\\updater_prune.cc:101: tree pruning end, 14 extra nodes, 4 pruned nodes, max_depth=4\n",
      "[81]\tvalidation_0-error:0.00108\n",
      "[13:18:48] INFO: C:\\Users\\Administrator\\workspace\\xgboost-win64_release_1.2.0\\src\\tree\\updater_prune.cc:101: tree pruning end, 20 extra nodes, 2 pruned nodes, max_depth=4\n",
      "[82]\tvalidation_0-error:0.00103\n",
      "[13:18:48] INFO: C:\\Users\\Administrator\\workspace\\xgboost-win64_release_1.2.0\\src\\tree\\updater_prune.cc:101: tree pruning end, 30 extra nodes, 0 pruned nodes, max_depth=4\n",
      "[83]\tvalidation_0-error:0.00092\n",
      "[13:18:48] INFO: C:\\Users\\Administrator\\workspace\\xgboost-win64_release_1.2.0\\src\\tree\\updater_prune.cc:101: tree pruning end, 22 extra nodes, 2 pruned nodes, max_depth=4\n",
      "[84]\tvalidation_0-error:0.00099\n",
      "[13:18:48] INFO: C:\\Users\\Administrator\\workspace\\xgboost-win64_release_1.2.0\\src\\tree\\updater_prune.cc:101: tree pruning end, 26 extra nodes, 2 pruned nodes, max_depth=4\n",
      "[85]\tvalidation_0-error:0.00094\n",
      "[13:18:49] INFO: C:\\Users\\Administrator\\workspace\\xgboost-win64_release_1.2.0\\src\\tree\\updater_prune.cc:101: tree pruning end, 26 extra nodes, 0 pruned nodes, max_depth=4\n",
      "[86]\tvalidation_0-error:0.00097\n",
      "[13:18:49] INFO: C:\\Users\\Administrator\\workspace\\xgboost-win64_release_1.2.0\\src\\tree\\updater_prune.cc:101: tree pruning end, 24 extra nodes, 2 pruned nodes, max_depth=4\n",
      "[87]\tvalidation_0-error:0.00097\n",
      "[13:18:49] INFO: C:\\Users\\Administrator\\workspace\\xgboost-win64_release_1.2.0\\src\\tree\\updater_prune.cc:101: tree pruning end, 14 extra nodes, 2 pruned nodes, max_depth=4\n",
      "[88]\tvalidation_0-error:0.00094\n",
      "[13:18:50] INFO: C:\\Users\\Administrator\\workspace\\xgboost-win64_release_1.2.0\\src\\tree\\updater_prune.cc:101: tree pruning end, 16 extra nodes, 0 pruned nodes, max_depth=4\n",
      "[89]\tvalidation_0-error:0.00092\n",
      "[13:18:50] INFO: C:\\Users\\Administrator\\workspace\\xgboost-win64_release_1.2.0\\src\\tree\\updater_prune.cc:101: tree pruning end, 26 extra nodes, 0 pruned nodes, max_depth=4\n",
      "[90]\tvalidation_0-error:0.00094\n",
      "[13:18:50] INFO: C:\\Users\\Administrator\\workspace\\xgboost-win64_release_1.2.0\\src\\tree\\updater_prune.cc:101: tree pruning end, 20 extra nodes, 0 pruned nodes, max_depth=4\n",
      "[91]\tvalidation_0-error:0.00097\n",
      "[13:18:51] INFO: C:\\Users\\Administrator\\workspace\\xgboost-win64_release_1.2.0\\src\\tree\\updater_prune.cc:101: tree pruning end, 16 extra nodes, 0 pruned nodes, max_depth=4\n",
      "[92]\tvalidation_0-error:0.00099\n",
      "[13:18:51] INFO: C:\\Users\\Administrator\\workspace\\xgboost-win64_release_1.2.0\\src\\tree\\updater_prune.cc:101: tree pruning end, 28 extra nodes, 0 pruned nodes, max_depth=4\n",
      "[93]\tvalidation_0-error:0.00099\n",
      "Stopping. Best iteration:\n",
      "[83]\tvalidation_0-error:0.00092\n",
      "\n",
      "[13:18:51] ======== Monitor: Learner ========\n",
      "[13:18:51] Configure: 0.011088s, 1 calls @ 11088us\n",
      "\n",
      "[13:18:51] EvalOneIter: 0.344212s, 94 calls @ 344212us\n",
      "\n",
      "[13:18:51] GetGradient: 0.695512s, 94 calls @ 695512us\n",
      "\n",
      "[13:18:51] PredictRaw: 2.55578s, 94 calls @ 2555780us\n",
      "\n",
      "[13:18:51] UpdateOneIter: 30.8924s, 94 calls @ 30892408us\n",
      "\n",
      "[13:18:51] ======== Monitor: GBTree ========\n",
      "[13:18:51] BoostNewTrees: 27.6257s, 94 calls @ 27625679us\n",
      "\n",
      "[13:18:51] CommitModel: 0.001583s, 94 calls @ 1583us\n",
      "\n",
      "[13:18:51] ======== Monitor: TreePruner ========\n",
      "[13:18:51] PrunerUpdate: 0.081835s, 94 calls @ 81835us\n",
      "\n",
      "\n",
      " Time taken: 3 hours 11 minutes and 33.31 seconds.\n"
     ]
    }
   ],
   "source": [
    "start_time = timer(None)\n",
    "grid_search.fit(X_trainsm,y_trainsm,early_stopping_rounds=10,eval_set=[(X_val,y_val)])\n",
    "timer(start_time)"
   ]
  },
  {
   "cell_type": "code",
   "execution_count": 48,
   "metadata": {},
   "outputs": [
    {
     "data": {
      "text/plain": [
       "((363920, 30), (182276, 30), (227845, 30))"
      ]
     },
     "execution_count": 48,
     "metadata": {},
     "output_type": "execute_result"
    }
   ],
   "source": [
    "X_trainsm.shape, X_train_set.shape,X_train.shape"
   ]
  },
  {
   "cell_type": "code",
   "execution_count": 49,
   "metadata": {},
   "outputs": [
    {
     "data": {
      "text/plain": [
       "XGBClassifier(base_score=0.5, booster='gbtree', colsample_bylevel=1,\n",
       "              colsample_bynode=1, colsample_bytree=0.6, gamm=2, gamma=2,\n",
       "              gpu_id=-1, importance_type='gain', interaction_constraints='',\n",
       "              learning_rate=0.300000012, max_delta_step=0, max_depth=4,\n",
       "              min_child_weight=6, missing=nan, monotone_constraints='()',\n",
       "              n_estimators=100, n_jobs=-1, num_parallel_tree=1, random_state=42,\n",
       "              reg_alpha=0, reg_lambda=1, scale_pos_weight=1, subsample=1.0,\n",
       "              tree_method='exact', validate_parameters=1, verbosity=3)"
      ]
     },
     "execution_count": 49,
     "metadata": {},
     "output_type": "execute_result"
    }
   ],
   "source": [
    "grid_search.best_estimator_"
   ]
  },
  {
   "cell_type": "code",
   "execution_count": 50,
   "metadata": {},
   "outputs": [
    {
     "data": {
      "text/plain": [
       "{'colsample_bytree': 0.6,\n",
       " 'gamma': 2,\n",
       " 'max_depth': 4,\n",
       " 'min_child_weight': 6,\n",
       " 'subsample': 1.0}"
      ]
     },
     "execution_count": 50,
     "metadata": {},
     "output_type": "execute_result"
    }
   ],
   "source": [
    "grid_search.best_params_"
   ]
  },
  {
   "cell_type": "code",
   "execution_count": 51,
   "metadata": {},
   "outputs": [
    {
     "data": {
      "text/plain": [
       "0.9999864040191603"
      ]
     },
     "execution_count": 51,
     "metadata": {},
     "output_type": "execute_result"
    }
   ],
   "source": [
    "grid_search.best_score_"
   ]
  },
  {
   "cell_type": "code",
   "execution_count": 52,
   "metadata": {},
   "outputs": [],
   "source": [
    "grid_search_prediction1 = grid_search.predict(X_test)"
   ]
  },
  {
   "cell_type": "code",
   "execution_count": 53,
   "metadata": {},
   "outputs": [
    {
     "name": "stdout",
     "output_type": "stream",
     "text": [
      "Classification Report for Extreme Gradient Boosting \n",
      "\n",
      "\n",
      "               precision    recall  f1-score   support\n",
      "\n",
      "           0       1.00      1.00      1.00     56864\n",
      "           1       0.60      0.89      0.72        98\n",
      "\n",
      "    accuracy                           1.00     56962\n",
      "   macro avg       0.80      0.94      0.86     56962\n",
      "weighted avg       1.00      1.00      1.00     56962\n",
      "\n",
      "Confusion Matrix for Extreme Gradient Boosting \n",
      " [[56807    57]\n",
      " [   11    87]]\n"
     ]
    }
   ],
   "source": [
    "print(\"Classification Report for Extreme Gradient Boosting \\n\\n\\n\",classification_report(y_test,grid_search_prediction1))\n",
    "print(\"Confusion Matrix for Extreme Gradient Boosting \\n\",confusion_matrix(y_test,grid_search_prediction1))"
   ]
  },
  {
   "cell_type": "code",
   "execution_count": null,
   "metadata": {},
   "outputs": [],
   "source": []
  }
 ],
 "metadata": {
  "kernelspec": {
   "display_name": "Python 3",
   "language": "python",
   "name": "python3"
  },
  "language_info": {
   "codemirror_mode": {
    "name": "ipython",
    "version": 3
   },
   "file_extension": ".py",
   "mimetype": "text/x-python",
   "name": "python",
   "nbconvert_exporter": "python",
   "pygments_lexer": "ipython3",
   "version": "3.8.5"
  }
 },
 "nbformat": 4,
 "nbformat_minor": 4
}
